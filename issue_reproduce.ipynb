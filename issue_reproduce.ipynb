{
 "cells": [
  {
   "cell_type": "code",
   "execution_count": null,
   "metadata": {
    "collapsed": false
   },
   "outputs": [
    {
     "data": {
      "text/html": [
       "<pre style=\"white-space:pre;overflow-x:auto;line-height:normal;font-family:Menlo,'DejaVu Sans Mono',consolas,'Courier New',monospace\"><span style=\"color: #808000; text-decoration-color: #808000; font-weight: bold\">Installed version </span><span style=\"color: #808000; text-decoration-color: #808000; font-weight: bold\">0.3</span><span style=\"color: #808000; text-decoration-color: #808000; font-weight: bold\">.</span><span style=\"color: #808000; text-decoration-color: #808000; font-weight: bold\">0</span><span style=\"color: #808000; text-decoration-color: #808000; font-weight: bold\"> of ehrapy is newer than the latest release </span><span style=\"color: #808000; text-decoration-color: #808000; font-weight: bold\">0.2</span><span style=\"color: #808000; text-decoration-color: #808000; font-weight: bold\">.</span><span style=\"color: #808000; text-decoration-color: #808000; font-weight: bold\">0</span><span style=\"color: #808000; text-decoration-color: #808000; font-weight: bold\">! You are running a nightly version and </span>\n",
       "<span style=\"color: #808000; text-decoration-color: #808000; font-weight: bold\">features may break!</span>\n",
       "</pre>\n"
      ],
      "text/plain": [
       "\u001b[1;33mInstalled version \u001b[0m\u001b[1;33m0.3\u001b[0m\u001b[1;33m.\u001b[0m\u001b[1;33m0\u001b[0m\u001b[1;33m of ehrapy is newer than the latest release \u001b[0m\u001b[1;33m0.2\u001b[0m\u001b[1;33m.\u001b[0m\u001b[1;33m0\u001b[0m\u001b[1;33m! You are running a nightly version and \u001b[0m\n",
       "\u001b[1;33mfeatures may break!\u001b[0m\n"
      ]
     },
     "metadata": {},
     "output_type": "display_data"
    },
    {
     "data": {
      "text/html": [
       "<pre style=\"white-space:pre;overflow-x:auto;line-height:normal;font-family:Menlo,'DejaVu Sans Mono',consolas,'Courier New',monospace\"><span style=\"color: #808000; text-decoration-color: #808000; font-weight: bold\">TypeError! Setting quality control metrics to nan. Did you encode your data?</span>\n",
       "</pre>\n"
      ],
      "text/plain": [
       "\u001b[1;33mTypeError! Setting quality control metrics to nan. Did you encode your data?\u001b[0m\n"
      ]
     },
     "metadata": {},
     "output_type": "display_data"
    }
   ],
   "source": [
    "import numpy as np\n",
    "import ehrapy as ep\n",
    "\n",
    "adata = ep.dt.mimic_2(encoded=False)\n",
    "adata.X[0][11] = np.nan\n",
    "adata.X[0][11]\n",
    "\n",
    "_ = ep.pp.qc_metrics(adata)\n"
   ]
  },
  {
   "cell_type": "code",
   "execution_count": 10,
   "metadata": {},
   "outputs": [
    {
     "data": {
      "application/vnd.jupyter.widget-view+json": {
       "model_id": "5c3c3b6551ae48a0b4b366014a11b8a7",
       "version_major": 2,
       "version_minor": 0
      },
      "text/plain": [
       "Output()"
      ]
     },
     "metadata": {},
     "output_type": "display_data"
    },
    {
     "data": {
      "text/html": [
       "<pre style=\"white-space:pre;overflow-x:auto;line-height:normal;font-family:Menlo,'DejaVu Sans Mono',consolas,'Courier New',monospace\"></pre>\n"
      ],
      "text/plain": []
     },
     "metadata": {},
     "output_type": "display_data"
    },
    {
     "data": {
      "text/html": [
       "<pre style=\"white-space:pre;overflow-x:auto;line-height:normal;font-family:Menlo,'DejaVu Sans Mono',consolas,'Courier New',monospace\">\n",
       "</pre>\n"
      ],
      "text/plain": [
       "\n"
      ]
     },
     "metadata": {},
     "output_type": "display_data"
    },
    {
     "name": "stderr",
     "output_type": "stream",
     "text": [
      "/Users/xinyuezhang/ehrapy/ehrapy/preprocessing/_encode.py:324: FutureWarning: X.dtype being converted to np.float32 from object. In the next version of anndata (0.9) conversion will not be automatic. Pass dtype explicitly to avoid this warning. Pass `AnnData(X, dtype=X.dtype, ...)` to get the future behavour.\n",
      "  encoded_ann_data = AnnData(\n"
     ]
    }
   ],
   "source": [
    "from ehrapy.io._read import read_csv\n",
    "from ehrapy.preprocessing._encode import encode\n",
    "from ehrapy.preprocessing._quality_control import _obs_qc_metrics, _var_qc_metrics\n",
    "import numpy as np\n",
    "def test_obs_nan_qc_metrics():\n",
    "    adata = read_csv(dataset_path=\"/Users/xinyuezhang/ehrapy/tests/preprocessing/test_data_encode/dataset1.csv\")\n",
    "    adata.X[0][4] = np.nan\n",
    "    adata2 = encode(adata, encodings={\"one_hot_encoding\": [\"clinic_day\"]})\n",
    "    obs_metrics = _obs_qc_metrics(adata2)\n",
    "    assert obs_metrics.iloc[0][0] == 1\n",
    "\n"
   ]
  },
  {
   "cell_type": "code",
   "execution_count": 15,
   "metadata": {},
   "outputs": [],
   "source": [
    "from ehrapy.io._read import read_csv\n",
    "from ehrapy.preprocessing._encode import encode\n",
    "from ehrapy.preprocessing._quality_control import _obs_qc_metrics, _var_qc_metrics\n",
    "import numpy as np\n",
    "def test_var_nan_qc_metrics():\n",
    "    adata = read_csv(dataset_path=\"/Users/xinyuezhang/ehrapy/tests/preprocessing/test_data_encode/dataset1.csv\")\n",
    "    adata.X[0][4] = np.nan\n",
    "    adata2 = encode(adata, encodings={\"one_hot_encoding\": [\"clinic_day\"]})\n",
    "    var_metrics = _var_qc_metrics(adata2)\n",
    "    assert var_metrics.iloc[0][0] == 1\n",
    "    assert var_metrics.iloc[1][0] == 1\n",
    "    assert var_metrics.iloc[2][0] == 1\n",
    "    assert var_metrics.iloc[3][0] == 1\n",
    "    assert var_metrics.iloc[4][0] == 1\n",
    "\n"
   ]
  },
  {
   "cell_type": "code",
   "execution_count": 12,
   "metadata": {},
   "outputs": [
    {
     "data": {
      "text/html": [
       "<div>\n",
       "<style scoped>\n",
       "    .dataframe tbody tr th:only-of-type {\n",
       "        vertical-align: middle;\n",
       "    }\n",
       "\n",
       "    .dataframe tbody tr th {\n",
       "        vertical-align: top;\n",
       "    }\n",
       "\n",
       "    .dataframe thead th {\n",
       "        text-align: right;\n",
       "    }\n",
       "</style>\n",
       "<table border=\"1\" class=\"dataframe\">\n",
       "  <thead>\n",
       "    <tr style=\"text-align: right;\">\n",
       "      <th></th>\n",
       "      <th>missing_values_abs</th>\n",
       "      <th>missing_values_pct</th>\n",
       "      <th>mean</th>\n",
       "      <th>median</th>\n",
       "      <th>standard_deviation</th>\n",
       "      <th>min</th>\n",
       "      <th>max</th>\n",
       "    </tr>\n",
       "  </thead>\n",
       "  <tbody>\n",
       "    <tr>\n",
       "      <th>ehrapycat_clinic_day_Friday</th>\n",
       "      <td>1</td>\n",
       "      <td>20.0</td>\n",
       "      <td>NaN</td>\n",
       "      <td>NaN</td>\n",
       "      <td>NaN</td>\n",
       "      <td>NaN</td>\n",
       "      <td>NaN</td>\n",
       "    </tr>\n",
       "    <tr>\n",
       "      <th>ehrapycat_clinic_day_Monday</th>\n",
       "      <td>1</td>\n",
       "      <td>20.0</td>\n",
       "      <td>NaN</td>\n",
       "      <td>NaN</td>\n",
       "      <td>NaN</td>\n",
       "      <td>NaN</td>\n",
       "      <td>NaN</td>\n",
       "    </tr>\n",
       "    <tr>\n",
       "      <th>ehrapycat_clinic_day_Saturday</th>\n",
       "      <td>1</td>\n",
       "      <td>20.0</td>\n",
       "      <td>NaN</td>\n",
       "      <td>NaN</td>\n",
       "      <td>NaN</td>\n",
       "      <td>NaN</td>\n",
       "      <td>NaN</td>\n",
       "    </tr>\n",
       "    <tr>\n",
       "      <th>ehrapycat_clinic_day_Sunday</th>\n",
       "      <td>1</td>\n",
       "      <td>20.0</td>\n",
       "      <td>NaN</td>\n",
       "      <td>NaN</td>\n",
       "      <td>NaN</td>\n",
       "      <td>NaN</td>\n",
       "      <td>NaN</td>\n",
       "    </tr>\n",
       "    <tr>\n",
       "      <th>ehrapycat_clinic_day_nan</th>\n",
       "      <td>1</td>\n",
       "      <td>20.0</td>\n",
       "      <td>NaN</td>\n",
       "      <td>NaN</td>\n",
       "      <td>NaN</td>\n",
       "      <td>NaN</td>\n",
       "      <td>NaN</td>\n",
       "    </tr>\n",
       "    <tr>\n",
       "      <th>patient_id</th>\n",
       "      <td>0</td>\n",
       "      <td>0.0</td>\n",
       "      <td>NaN</td>\n",
       "      <td>NaN</td>\n",
       "      <td>NaN</td>\n",
       "      <td>NaN</td>\n",
       "      <td>NaN</td>\n",
       "    </tr>\n",
       "    <tr>\n",
       "      <th>los_days</th>\n",
       "      <td>0</td>\n",
       "      <td>0.0</td>\n",
       "      <td>NaN</td>\n",
       "      <td>NaN</td>\n",
       "      <td>NaN</td>\n",
       "      <td>NaN</td>\n",
       "      <td>NaN</td>\n",
       "    </tr>\n",
       "    <tr>\n",
       "      <th>b12_values</th>\n",
       "      <td>0</td>\n",
       "      <td>0.0</td>\n",
       "      <td>NaN</td>\n",
       "      <td>NaN</td>\n",
       "      <td>NaN</td>\n",
       "      <td>NaN</td>\n",
       "      <td>NaN</td>\n",
       "    </tr>\n",
       "    <tr>\n",
       "      <th>survival</th>\n",
       "      <td>0</td>\n",
       "      <td>0.0</td>\n",
       "      <td>NaN</td>\n",
       "      <td>NaN</td>\n",
       "      <td>NaN</td>\n",
       "      <td>NaN</td>\n",
       "      <td>NaN</td>\n",
       "    </tr>\n",
       "  </tbody>\n",
       "</table>\n",
       "</div>"
      ],
      "text/plain": [
       "                               missing_values_abs  missing_values_pct  mean  \\\n",
       "ehrapycat_clinic_day_Friday                     1                20.0   NaN   \n",
       "ehrapycat_clinic_day_Monday                     1                20.0   NaN   \n",
       "ehrapycat_clinic_day_Saturday                   1                20.0   NaN   \n",
       "ehrapycat_clinic_day_Sunday                     1                20.0   NaN   \n",
       "ehrapycat_clinic_day_nan                        1                20.0   NaN   \n",
       "patient_id                                      0                 0.0   NaN   \n",
       "los_days                                        0                 0.0   NaN   \n",
       "b12_values                                      0                 0.0   NaN   \n",
       "survival                                        0                 0.0   NaN   \n",
       "\n",
       "                               median  standard_deviation  min  max  \n",
       "ehrapycat_clinic_day_Friday       NaN                 NaN  NaN  NaN  \n",
       "ehrapycat_clinic_day_Monday       NaN                 NaN  NaN  NaN  \n",
       "ehrapycat_clinic_day_Saturday     NaN                 NaN  NaN  NaN  \n",
       "ehrapycat_clinic_day_Sunday       NaN                 NaN  NaN  NaN  \n",
       "ehrapycat_clinic_day_nan          NaN                 NaN  NaN  NaN  \n",
       "patient_id                        NaN                 NaN  NaN  NaN  \n",
       "los_days                          NaN                 NaN  NaN  NaN  \n",
       "b12_values                        NaN                 NaN  NaN  NaN  \n",
       "survival                          NaN                 NaN  NaN  NaN  "
      ]
     },
     "execution_count": 12,
     "metadata": {},
     "output_type": "execute_result"
    }
   ],
   "source": [
    "var_metrics"
   ]
  },
  {
   "cell_type": "code",
   "execution_count": 13,
   "metadata": {},
   "outputs": [],
   "source": [
    "assert var_metrics.iloc[0][0] == 1"
   ]
  },
  {
   "cell_type": "code",
   "execution_count": 1,
   "metadata": {},
   "outputs": [
    {
     "data": {
      "text/html": [
       "<pre style=\"white-space:pre;overflow-x:auto;line-height:normal;font-family:Menlo,'DejaVu Sans Mono',consolas,'Courier New',monospace\"><span style=\"color: #808000; text-decoration-color: #808000; font-weight: bold\">Installed version </span><span style=\"color: #808000; text-decoration-color: #808000; font-weight: bold\">0.3</span><span style=\"color: #808000; text-decoration-color: #808000; font-weight: bold\">.</span><span style=\"color: #808000; text-decoration-color: #808000; font-weight: bold\">0</span><span style=\"color: #808000; text-decoration-color: #808000; font-weight: bold\"> of ehrapy is newer than the latest release </span><span style=\"color: #808000; text-decoration-color: #808000; font-weight: bold\">0.2</span><span style=\"color: #808000; text-decoration-color: #808000; font-weight: bold\">.</span><span style=\"color: #808000; text-decoration-color: #808000; font-weight: bold\">0</span><span style=\"color: #808000; text-decoration-color: #808000; font-weight: bold\">! You are running a nightly version and </span>\n",
       "<span style=\"color: #808000; text-decoration-color: #808000; font-weight: bold\">features may break!</span>\n",
       "</pre>\n"
      ],
      "text/plain": [
       "\u001b[1;33mInstalled version \u001b[0m\u001b[1;33m0.3\u001b[0m\u001b[1;33m.\u001b[0m\u001b[1;33m0\u001b[0m\u001b[1;33m of ehrapy is newer than the latest release \u001b[0m\u001b[1;33m0.2\u001b[0m\u001b[1;33m.\u001b[0m\u001b[1;33m0\u001b[0m\u001b[1;33m! You are running a nightly version and \u001b[0m\n",
       "\u001b[1;33mfeatures may break!\u001b[0m\n"
      ]
     },
     "metadata": {},
     "output_type": "display_data"
    },
    {
     "name": "stdout",
     "output_type": "stream",
     "text": [
      "\u001b[1;35m2022-12-02 16:39:01,621\u001b[0m - \u001b[1;34mroot\u001b[0m \u001b[0;37mINFO - Added all columns to `obs`.\u001b[0m\n",
      "\u001b[1;35m2022-12-02 16:39:01,626\u001b[0m - \u001b[1;34mroot\u001b[0m \u001b[0;37mINFO - Transformed passed dataframe into an AnnData object with n_obs x n_vars = `5` x `5`.\u001b[0m\n"
     ]
    }
   ],
   "source": [
    "from ehrapy.io._read import read_csv\n",
    "import numpy as np\n",
    "import ehrapy\n",
    "from ehrapy.preprocessing._encode import DuplicateColumnEncodingError, _reorder_encodings, encode\n",
    "adata = read_csv(dataset_path=\"/Users/xinyuezhang/ehrapy/tests/preprocessing/test_data_encode/dataset1.csv\")\n"
   ]
  },
  {
   "cell_type": "code",
   "execution_count": 2,
   "metadata": {},
   "outputs": [],
   "source": [
    "adata.X[0][4] = np.nan"
   ]
  },
  {
   "cell_type": "code",
   "execution_count": 3,
   "metadata": {},
   "outputs": [
    {
     "name": "stdout",
     "output_type": "stream",
     "text": [
      "\u001b[1;35m2022-12-02 16:39:05,772\u001b[0m - \u001b[1;34mroot\u001b[0m \u001b[0;37mINFO - The original categorical values `['clinic_day']` were added to uns.\u001b[0m\n"
     ]
    },
    {
     "data": {
      "application/vnd.jupyter.widget-view+json": {
       "model_id": "fd342fcf61d944f99addee23cf02bea2",
       "version_major": 2,
       "version_minor": 0
      },
      "text/plain": [
       "Output()"
      ]
     },
     "metadata": {},
     "output_type": "display_data"
    },
    {
     "data": {
      "text/html": [
       "<pre style=\"white-space:pre;overflow-x:auto;line-height:normal;font-family:Menlo,'DejaVu Sans Mono',consolas,'Courier New',monospace\"></pre>\n"
      ],
      "text/plain": []
     },
     "metadata": {},
     "output_type": "display_data"
    },
    {
     "data": {
      "text/html": [
       "<pre style=\"white-space:pre;overflow-x:auto;line-height:normal;font-family:Menlo,'DejaVu Sans Mono',consolas,'Courier New',monospace\">\n",
       "</pre>\n"
      ],
      "text/plain": [
       "\n"
      ]
     },
     "metadata": {},
     "output_type": "display_data"
    },
    {
     "name": "stdout",
     "output_type": "stream",
     "text": [
      "\u001b[1;35m2022-12-02 16:39:05,801\u001b[0m - \u001b[1;34mroot\u001b[0m \u001b[0;37mINFO - Updated the original layer after encoding.\u001b[0m\n",
      "\u001b[1;35m2022-12-02 16:39:05,807\u001b[0m - \u001b[1;34mroot\u001b[0m \u001b[0;37mINFO - Added `['clinic_day']` columns to `X`.\u001b[0m\n",
      "\u001b[1;35m2022-12-02 16:39:05,813\u001b[0m - \u001b[1;34mroot\u001b[0m \u001b[0;37mINFO - The original categorical values `['clinic_day']` were added to obs.\u001b[0m\n"
     ]
    },
    {
     "name": "stderr",
     "output_type": "stream",
     "text": [
      "/Users/xinyuezhang/ehrapy/ehrapy/preprocessing/_encode.py:333: FutureWarning: X.dtype being converted to np.float32 from object. In the next version of anndata (0.9) conversion will not be automatic. Pass dtype explicitly to avoid this warning. Pass `AnnData(X, dtype=X.dtype, ...)` to get the future behavour.\n",
      "  encoded_ann_data = AnnData(\n"
     ]
    }
   ],
   "source": [
    "adata2 = encode(adata, encodings={\"one_hot_encoding\": [\"clinic_day\"]})"
   ]
  },
  {
   "cell_type": "code",
   "execution_count": 4,
   "metadata": {},
   "outputs": [
    {
     "data": {
      "text/plain": [
       "array([[12, 14, 500, False, nan],\n",
       "       [13, 7, 330, False, 'Saturday'],\n",
       "       [14, 10, 800, True, 'Monday'],\n",
       "       [15, 11, 765, True, 'Sunday'],\n",
       "       [16, 3, 800, True, 'Friday']], dtype=object)"
      ]
     },
     "execution_count": 4,
     "metadata": {},
     "output_type": "execute_result"
    }
   ],
   "source": [
    "adata.X"
   ]
  },
  {
   "cell_type": "code",
   "execution_count": 5,
   "metadata": {},
   "outputs": [
    {
     "data": {
      "text/plain": [
       "array([[  0.,   0.,   0.,   0.,   1.,  12.,  14., 500.,   0.],\n",
       "       [  0.,   0.,   1.,   0.,   0.,  13.,   7., 330.,   0.],\n",
       "       [  0.,   1.,   0.,   0.,   0.,  14.,  10., 800.,   1.],\n",
       "       [  0.,   0.,   0.,   1.,   0.,  15.,  11., 765.,   1.],\n",
       "       [  1.,   0.,   0.,   0.,   0.,  16.,   3., 800.,   1.]],\n",
       "      dtype=float32)"
      ]
     },
     "execution_count": 5,
     "metadata": {},
     "output_type": "execute_result"
    }
   ],
   "source": [
    "adata2.X"
   ]
  },
  {
   "cell_type": "code",
   "execution_count": 6,
   "metadata": {},
   "outputs": [
    {
     "name": "stdout",
     "output_type": "stream",
     "text": [
      "\u001b[1;35m2022-12-02 16:39:15,341\u001b[0m - \u001b[1;34mroot\u001b[0m \u001b[0;37mINFO - Added the calculated metrics to AnnData's `obs` and `var`.\u001b[0m\n"
     ]
    }
   ],
   "source": [
    "_ = ehrapy.pp.qc_metrics(adata2)"
   ]
  },
  {
   "cell_type": "code",
   "execution_count": 7,
   "metadata": {},
   "outputs": [
    {
     "data": {
      "text/html": [
       "<div>\n",
       "<style scoped>\n",
       "    .dataframe tbody tr th:only-of-type {\n",
       "        vertical-align: middle;\n",
       "    }\n",
       "\n",
       "    .dataframe tbody tr th {\n",
       "        vertical-align: top;\n",
       "    }\n",
       "\n",
       "    .dataframe thead th {\n",
       "        text-align: right;\n",
       "    }\n",
       "</style>\n",
       "<table border=\"1\" class=\"dataframe\">\n",
       "  <thead>\n",
       "    <tr style=\"text-align: right;\">\n",
       "      <th></th>\n",
       "      <th>clinic_day</th>\n",
       "      <th>missing_values_abs</th>\n",
       "      <th>missing_values_pct</th>\n",
       "    </tr>\n",
       "  </thead>\n",
       "  <tbody>\n",
       "    <tr>\n",
       "      <th>0</th>\n",
       "      <td>NaN</td>\n",
       "      <td>0</td>\n",
       "      <td>0.0</td>\n",
       "    </tr>\n",
       "    <tr>\n",
       "      <th>1</th>\n",
       "      <td>Saturday</td>\n",
       "      <td>0</td>\n",
       "      <td>0.0</td>\n",
       "    </tr>\n",
       "    <tr>\n",
       "      <th>2</th>\n",
       "      <td>Monday</td>\n",
       "      <td>0</td>\n",
       "      <td>0.0</td>\n",
       "    </tr>\n",
       "    <tr>\n",
       "      <th>3</th>\n",
       "      <td>Sunday</td>\n",
       "      <td>0</td>\n",
       "      <td>0.0</td>\n",
       "    </tr>\n",
       "    <tr>\n",
       "      <th>4</th>\n",
       "      <td>Friday</td>\n",
       "      <td>0</td>\n",
       "      <td>0.0</td>\n",
       "    </tr>\n",
       "  </tbody>\n",
       "</table>\n",
       "</div>"
      ],
      "text/plain": [
       "  clinic_day  missing_values_abs  missing_values_pct\n",
       "0        NaN                   0                 0.0\n",
       "1   Saturday                   0                 0.0\n",
       "2     Monday                   0                 0.0\n",
       "3     Sunday                   0                 0.0\n",
       "4     Friday                   0                 0.0"
      ]
     },
     "execution_count": 7,
     "metadata": {},
     "output_type": "execute_result"
    }
   ],
   "source": [
    "adata2.obs"
   ]
  },
  {
   "cell_type": "code",
   "execution_count": 24,
   "metadata": {},
   "outputs": [
    {
     "data": {
      "text/html": [
       "<pre style=\"white-space:pre;overflow-x:auto;line-height:normal;font-family:Menlo,'DejaVu Sans Mono',consolas,'Courier New',monospace\"><span style=\"color: #808000; text-decoration-color: #808000; font-weight: bold\">TypeError! Setting quality control metrics to nan. Did you encode your data?</span>\n",
       "</pre>\n"
      ],
      "text/plain": [
       "\u001b[1;33mTypeError! Setting quality control metrics to nan. Did you encode your data?\u001b[0m\n"
      ]
     },
     "metadata": {},
     "output_type": "display_data"
    }
   ],
   "source": [
    "_ = ehrapy.pp.qc_metrics(adata)"
   ]
  },
  {
   "cell_type": "code",
   "execution_count": 25,
   "metadata": {},
   "outputs": [
    {
     "data": {
      "text/html": [
       "<div>\n",
       "<style scoped>\n",
       "    .dataframe tbody tr th:only-of-type {\n",
       "        vertical-align: middle;\n",
       "    }\n",
       "\n",
       "    .dataframe tbody tr th {\n",
       "        vertical-align: top;\n",
       "    }\n",
       "\n",
       "    .dataframe thead th {\n",
       "        text-align: right;\n",
       "    }\n",
       "</style>\n",
       "<table border=\"1\" class=\"dataframe\">\n",
       "  <thead>\n",
       "    <tr style=\"text-align: right;\">\n",
       "      <th></th>\n",
       "      <th>missing_values_abs</th>\n",
       "      <th>missing_values_pct</th>\n",
       "    </tr>\n",
       "  </thead>\n",
       "  <tbody>\n",
       "    <tr>\n",
       "      <th>0</th>\n",
       "      <td>1</td>\n",
       "      <td>20.0</td>\n",
       "    </tr>\n",
       "    <tr>\n",
       "      <th>1</th>\n",
       "      <td>0</td>\n",
       "      <td>0.0</td>\n",
       "    </tr>\n",
       "    <tr>\n",
       "      <th>2</th>\n",
       "      <td>0</td>\n",
       "      <td>0.0</td>\n",
       "    </tr>\n",
       "    <tr>\n",
       "      <th>3</th>\n",
       "      <td>0</td>\n",
       "      <td>0.0</td>\n",
       "    </tr>\n",
       "    <tr>\n",
       "      <th>4</th>\n",
       "      <td>0</td>\n",
       "      <td>0.0</td>\n",
       "    </tr>\n",
       "  </tbody>\n",
       "</table>\n",
       "</div>"
      ],
      "text/plain": [
       "   missing_values_abs  missing_values_pct\n",
       "0                   1                20.0\n",
       "1                   0                 0.0\n",
       "2                   0                 0.0\n",
       "3                   0                 0.0\n",
       "4                   0                 0.0"
      ]
     },
     "execution_count": 25,
     "metadata": {},
     "output_type": "execute_result"
    }
   ],
   "source": [
    "adata.obs"
   ]
  },
  {
   "cell_type": "code",
   "execution_count": 3,
   "metadata": {},
   "outputs": [
    {
     "data": {
      "text/plain": [
       "AnnData object with n_obs × n_vars = 5 × 5\n",
       "    obs: 'survival', 'clinic_day'\n",
       "    uns: 'numerical_columns', 'non_numerical_columns', 'original_values_categoricals', 'var_to_encoding', 'encoding_to_var'\n",
       "    layers: 'original'"
      ]
     },
     "execution_count": 3,
     "metadata": {},
     "output_type": "execute_result"
    }
   ],
   "source": [
    "encoded_ann_data"
   ]
  },
  {
   "cell_type": "code",
   "execution_count": 4,
   "metadata": {},
   "outputs": [
    {
     "data": {
      "text/plain": [
       "AnnData object with n_obs × n_vars = 5 × 5\n",
       "    uns: 'numerical_columns', 'non_numerical_columns'\n",
       "    layers: 'original'"
      ]
     },
     "execution_count": 4,
     "metadata": {},
     "output_type": "execute_result"
    }
   ],
   "source": [
    "adata"
   ]
  },
  {
   "cell_type": "code",
   "execution_count": 6,
   "metadata": {},
   "outputs": [],
   "source": [
    "adata.X[0][4] = np.nan"
   ]
  },
  {
   "cell_type": "code",
   "execution_count": 7,
   "metadata": {},
   "outputs": [
    {
     "data": {
      "text/plain": [
       "array([[12, 14, 500, False, nan],\n",
       "       [13, 7, 330, False, 'Saturday'],\n",
       "       [14, 10, 800, True, 'Monday'],\n",
       "       [15, 11, 765, True, 'Sunday'],\n",
       "       [16, 3, 800, True, 'Friday']], dtype=object)"
      ]
     },
     "execution_count": 7,
     "metadata": {},
     "output_type": "execute_result"
    }
   ],
   "source": [
    "adata.X"
   ]
  },
  {
   "cell_type": "code",
   "execution_count": 4,
   "metadata": {},
   "outputs": [],
   "source": [
    "adata = ep.dt.mimic_2(encoded=False)"
   ]
  },
  {
   "cell_type": "code",
   "execution_count": 5,
   "metadata": {},
   "outputs": [
    {
     "data": {
      "text/plain": [
       "AnnData object with n_obs × n_vars = 1776 × 46\n",
       "    uns: 'numerical_columns', 'non_numerical_columns'\n",
       "    layers: 'original'"
      ]
     },
     "execution_count": 5,
     "metadata": {},
     "output_type": "execute_result"
    }
   ],
   "source": [
    "adata\n"
   ]
  },
  {
   "cell_type": "code",
   "execution_count": 13,
   "metadata": {},
   "outputs": [
    {
     "data": {
      "text/plain": [
       "OverloadedDict, wrapping:\n",
       "\tOrderedDict([('numerical_columns', ['bun_first', 'hgb_first', 'temp_1st', 'abg_count', 'sapsi_first', 'sepsis_flg', 'creatinine_first', 'icu_los_day', 'tco2_first', 'sodium_first', 'wbc_first', 'mort_day_censored', 'iv_day_1', 'weight_first', 'potassium_first', 'day_icu_intime_num', 'bmi', 'age', 'platelet_first', 'po2_first', 'chloride_first', 'map_1st', 'pco2_first', 'hospital_los_day', 'hour_icu_intime', 'spo2_1st', 'hr_1st', 'sofa_first']), ('non_numerical_columns', ['icu_exp_flg', 'resp_flg', 'censor_flg', 'gender_num', 'liver_flg', 'afib_flg', 'service_unit', 'mal_flg', 'chf_flg', 'service_num', 'cad_flg', 'renal_flg', 'day_28_flg', 'hosp_exp_flg', 'day_icu_intime', 'stroke_flg', 'copd_flg', 'aline_flg'])])\n",
       "With overloaded keys:\n",
       "\t['neighbors']."
      ]
     },
     "execution_count": 13,
     "metadata": {},
     "output_type": "execute_result"
    }
   ],
   "source": [
    "adata.uns"
   ]
  },
  {
   "cell_type": "code",
   "execution_count": 15,
   "metadata": {},
   "outputs": [
    {
     "name": "stderr",
     "output_type": "stream",
     "text": [
      "/Users/xinyuezhang/ehrapy/.venv/lib/python3.8/site-packages/anndata/_core/anndata.py:121: ImplicitModificationWarning: Transforming to str index.\n",
      "  warnings.warn(\"Transforming to str index.\", ImplicitModificationWarning)\n"
     ]
    }
   ],
   "source": [
    "from anndata import AnnData\n",
    "import pandas as pd\n",
    "\n",
    "\n",
    "obs_data = {\n",
    "            \"disease\": [\"cancer\", \"tumor\"],\n",
    "            \"country\": [\"Germany\", \"switzerland\"],\n",
    "            \"sex\": [\"male\", \"female\"],\n",
    "        }\n",
    "var_data = {\n",
    "    \"alive\": [\"yes\", \"no\", \"maybe\"],\n",
    "    \"hospital\": [\"hospital 1\", \"hospital 2\", \"hospital 1\", \"hospital 2\", \"hospital 2\"],\n",
    "    \"crazy\": [\"yes\", \"yes\", \"yes\"],\n",
    "}\n",
    "adata = AnnData(\n",
    "            X=np.array([[0.21, np.nan, 41.42], [np.nan, np.nan, 7.234], [0.21, np.nan, 41.42], [np.nan, np.nan, 7.234], [0.21, np.nan, 41.42]], dtype=np.float32),\n",
    "            obs=pd.DataFrame(data=obs_data),\n",
    "            var=pd.DataFrame(data=var_data, index=[\"Acetaminophen\", \"hospital\", \"crazy\"]),\n",
    "        )"
   ]
  },
  {
   "cell_type": "code",
   "execution_count": 16,
   "metadata": {},
   "outputs": [
    {
     "data": {
      "text/html": [
       "<div>\n",
       "<style scoped>\n",
       "    .dataframe tbody tr th:only-of-type {\n",
       "        vertical-align: middle;\n",
       "    }\n",
       "\n",
       "    .dataframe tbody tr th {\n",
       "        vertical-align: top;\n",
       "    }\n",
       "\n",
       "    .dataframe thead th {\n",
       "        text-align: right;\n",
       "    }\n",
       "</style>\n",
       "<table border=\"1\" class=\"dataframe\">\n",
       "  <thead>\n",
       "    <tr style=\"text-align: right;\">\n",
       "      <th></th>\n",
       "      <th>disease</th>\n",
       "      <th>country</th>\n",
       "      <th>sex</th>\n",
       "    </tr>\n",
       "  </thead>\n",
       "  <tbody>\n",
       "    <tr>\n",
       "      <th>0</th>\n",
       "      <td>cancer</td>\n",
       "      <td>Germany</td>\n",
       "      <td>male</td>\n",
       "    </tr>\n",
       "    <tr>\n",
       "      <th>1</th>\n",
       "      <td>tumor</td>\n",
       "      <td>switzerland</td>\n",
       "      <td>female</td>\n",
       "    </tr>\n",
       "    <tr>\n",
       "      <th>2</th>\n",
       "      <td>cancer</td>\n",
       "      <td>Germany</td>\n",
       "      <td>male</td>\n",
       "    </tr>\n",
       "    <tr>\n",
       "      <th>3</th>\n",
       "      <td>cancer</td>\n",
       "      <td>Germany</td>\n",
       "      <td>female</td>\n",
       "    </tr>\n",
       "    <tr>\n",
       "      <th>4</th>\n",
       "      <td>cancer</td>\n",
       "      <td>NaN</td>\n",
       "      <td>male</td>\n",
       "    </tr>\n",
       "  </tbody>\n",
       "</table>\n",
       "</div>"
      ],
      "text/plain": [
       "  disease      country     sex\n",
       "0  cancer      Germany    male\n",
       "1   tumor  switzerland  female\n",
       "2  cancer      Germany    male\n",
       "3  cancer      Germany  female\n",
       "4  cancer          NaN    male"
      ]
     },
     "execution_count": 16,
     "metadata": {},
     "output_type": "execute_result"
    }
   ],
   "source": [
    "adata.obs"
   ]
  },
  {
   "cell_type": "code",
   "execution_count": 17,
   "metadata": {},
   "outputs": [
    {
     "data": {
      "text/html": [
       "<div>\n",
       "<style scoped>\n",
       "    .dataframe tbody tr th:only-of-type {\n",
       "        vertical-align: middle;\n",
       "    }\n",
       "\n",
       "    .dataframe tbody tr th {\n",
       "        vertical-align: top;\n",
       "    }\n",
       "\n",
       "    .dataframe thead th {\n",
       "        text-align: right;\n",
       "    }\n",
       "</style>\n",
       "<table border=\"1\" class=\"dataframe\">\n",
       "  <thead>\n",
       "    <tr style=\"text-align: right;\">\n",
       "      <th></th>\n",
       "      <th>alive</th>\n",
       "      <th>hospital</th>\n",
       "      <th>crazy</th>\n",
       "    </tr>\n",
       "  </thead>\n",
       "  <tbody>\n",
       "    <tr>\n",
       "      <th>Acetaminophen</th>\n",
       "      <td>yes</td>\n",
       "      <td>hospital 1</td>\n",
       "      <td>yes</td>\n",
       "    </tr>\n",
       "    <tr>\n",
       "      <th>hospital</th>\n",
       "      <td>no</td>\n",
       "      <td>hospital 2</td>\n",
       "      <td>yes</td>\n",
       "    </tr>\n",
       "    <tr>\n",
       "      <th>crazy</th>\n",
       "      <td>maybe</td>\n",
       "      <td>hospital 1</td>\n",
       "      <td>yes</td>\n",
       "    </tr>\n",
       "  </tbody>\n",
       "</table>\n",
       "</div>"
      ],
      "text/plain": [
       "               alive    hospital crazy\n",
       "Acetaminophen    yes  hospital 1   yes\n",
       "hospital          no  hospital 2   yes\n",
       "crazy          maybe  hospital 1   yes"
      ]
     },
     "execution_count": 17,
     "metadata": {},
     "output_type": "execute_result"
    }
   ],
   "source": [
    "adata.var"
   ]
  },
  {
   "cell_type": "code",
   "execution_count": 21,
   "metadata": {},
   "outputs": [
    {
     "data": {
      "text/plain": [
       "AnnData object with n_obs × n_vars = 5 × 3\n",
       "    obs: 'disease', 'country', 'sex'\n",
       "    var: 'alive', 'hospital', 'crazy'\n",
       "    layers: 'original'"
      ]
     },
     "execution_count": 21,
     "metadata": {},
     "output_type": "execute_result"
    }
   ],
   "source": [
    "adata"
   ]
  },
  {
   "cell_type": "code",
   "execution_count": 18,
   "metadata": {},
   "outputs": [
    {
     "data": {
      "text/plain": [
       "array([[ 0.21 ,    nan, 41.42 ],\n",
       "       [   nan,    nan,  7.234],\n",
       "       [ 0.21 ,    nan, 41.42 ],\n",
       "       [   nan,    nan,  7.234],\n",
       "       [ 0.21 ,    nan, 41.42 ]], dtype=float32)"
      ]
     },
     "execution_count": 18,
     "metadata": {},
     "output_type": "execute_result"
    }
   ],
   "source": [
    "adata.X"
   ]
  },
  {
   "cell_type": "code",
   "execution_count": 3,
   "metadata": {},
   "outputs": [
    {
     "name": "stdout",
     "output_type": "stream",
     "text": [
      "missing_values_abs    1.000000\n",
      "missing_values_pct    2.173913\n",
      "Name: 0, dtype: float64\n"
     ]
    }
   ],
   "source": [
    "print(adata.obs.iloc[0])"
   ]
  },
  {
   "cell_type": "code",
   "execution_count": 2,
   "metadata": {},
   "outputs": [
    {
     "name": "stdout",
     "output_type": "stream",
     "text": [
      "missing_values_abs    1.000000\n",
      "missing_values_pct    0.056306\n",
      "mean                       NaN\n",
      "median                     NaN\n",
      "standard_deviation         NaN\n",
      "min                        NaN\n",
      "max                        NaN\n",
      "Name: day_icu_intime, dtype: float64\n"
     ]
    }
   ],
   "source": [
    "print(adata.var.iloc[11])"
   ]
  },
  {
   "cell_type": "code",
   "execution_count": 4,
   "metadata": {},
   "outputs": [
    {
     "data": {
      "application/vnd.jupyter.widget-view+json": {
       "model_id": "ceeb02a01d6e4db8bf6559ad9852b4c3",
       "version_major": 2,
       "version_minor": 0
      },
      "text/plain": [
       "Output()"
      ]
     },
     "metadata": {},
     "output_type": "display_data"
    },
    {
     "data": {
      "text/html": [
       "<pre style=\"white-space:pre;overflow-x:auto;line-height:normal;font-family:Menlo,'DejaVu Sans Mono',consolas,'Courier New',monospace\"></pre>\n"
      ],
      "text/plain": []
     },
     "metadata": {},
     "output_type": "display_data"
    },
    {
     "data": {
      "text/html": [
       "<pre style=\"white-space:pre;overflow-x:auto;line-height:normal;font-family:Menlo,'DejaVu Sans Mono',consolas,'Courier New',monospace\">\n",
       "</pre>\n"
      ],
      "text/plain": [
       "\n"
      ]
     },
     "metadata": {},
     "output_type": "display_data"
    },
    {
     "name": "stderr",
     "output_type": "stream",
     "text": [
      "/Users/xinyuezhang/ehrapy/ehrapy/preprocessing/_encode.py:324: FutureWarning: X.dtype being converted to np.float32 from object. In the next version of anndata (0.9) conversion will not be automatic. Pass dtype explicitly to avoid this warning. Pass `AnnData(X, dtype=X.dtype, ...)` to get the future behavour.\n",
      "  encoded_ann_data = AnnData(\n"
     ]
    }
   ],
   "source": [
    "adata2 = ep.pp.encode(adata, encodings={\"one_hot_encoding\": [\"service_unit\", \"day_icu_intime\"]})"
   ]
  },
  {
   "cell_type": "code",
   "execution_count": 5,
   "metadata": {},
   "outputs": [
    {
     "data": {
      "text/html": [
       "<pre style=\"white-space:pre;overflow-x:auto;line-height:normal;font-family:Menlo,'DejaVu Sans Mono',consolas,'Courier New',monospace\"><span style=\"color: #808000; text-decoration-color: #808000; font-weight: bold\">TypeError! Setting quality control metrics to nan. Did you encode your data?</span>\n",
       "</pre>\n"
      ],
      "text/plain": [
       "\u001b[1;33mTypeError! Setting quality control metrics to nan. Did you encode your data?\u001b[0m\n"
      ]
     },
     "metadata": {},
     "output_type": "display_data"
    },
    {
     "name": "stdout",
     "output_type": "stream",
     "text": [
      "missing_values_abs           1\n",
      "missing_values_pct    1.818182\n",
      "service_unit              SICU\n",
      "day_icu_intime             NaN\n",
      "Name: 0, dtype: object\n"
     ]
    }
   ],
   "source": [
    "_ = ep.pp.qc_metrics(adata2)\n",
    "print(adata2.obs.iloc[0])"
   ]
  },
  {
   "cell_type": "code",
   "execution_count": 9,
   "metadata": {},
   "outputs": [
    {
     "data": {
      "text/html": [
       "<div>\n",
       "<style scoped>\n",
       "    .dataframe tbody tr th:only-of-type {\n",
       "        vertical-align: middle;\n",
       "    }\n",
       "\n",
       "    .dataframe tbody tr th {\n",
       "        vertical-align: top;\n",
       "    }\n",
       "\n",
       "    .dataframe thead th {\n",
       "        text-align: right;\n",
       "    }\n",
       "</style>\n",
       "<table border=\"1\" class=\"dataframe\">\n",
       "  <thead>\n",
       "    <tr style=\"text-align: right;\">\n",
       "      <th></th>\n",
       "      <th>missing_values_abs</th>\n",
       "      <th>missing_values_pct</th>\n",
       "      <th>mean</th>\n",
       "      <th>median</th>\n",
       "      <th>standard_deviation</th>\n",
       "      <th>min</th>\n",
       "      <th>max</th>\n",
       "    </tr>\n",
       "  </thead>\n",
       "  <tbody>\n",
       "    <tr>\n",
       "      <th>ehrapycat_service_unit_FICU</th>\n",
       "      <td>0</td>\n",
       "      <td>0.000000</td>\n",
       "      <td>NaN</td>\n",
       "      <td>NaN</td>\n",
       "      <td>NaN</td>\n",
       "      <td>NaN</td>\n",
       "      <td>NaN</td>\n",
       "    </tr>\n",
       "    <tr>\n",
       "      <th>ehrapycat_service_unit_MICU</th>\n",
       "      <td>0</td>\n",
       "      <td>0.000000</td>\n",
       "      <td>NaN</td>\n",
       "      <td>NaN</td>\n",
       "      <td>NaN</td>\n",
       "      <td>NaN</td>\n",
       "      <td>NaN</td>\n",
       "    </tr>\n",
       "    <tr>\n",
       "      <th>ehrapycat_service_unit_SICU</th>\n",
       "      <td>0</td>\n",
       "      <td>0.000000</td>\n",
       "      <td>NaN</td>\n",
       "      <td>NaN</td>\n",
       "      <td>NaN</td>\n",
       "      <td>NaN</td>\n",
       "      <td>NaN</td>\n",
       "    </tr>\n",
       "    <tr>\n",
       "      <th>ehrapycat_day_icu_intime_Friday</th>\n",
       "      <td>1</td>\n",
       "      <td>0.056306</td>\n",
       "      <td>NaN</td>\n",
       "      <td>NaN</td>\n",
       "      <td>NaN</td>\n",
       "      <td>NaN</td>\n",
       "      <td>NaN</td>\n",
       "    </tr>\n",
       "    <tr>\n",
       "      <th>ehrapycat_day_icu_intime_Monday</th>\n",
       "      <td>1</td>\n",
       "      <td>0.056306</td>\n",
       "      <td>NaN</td>\n",
       "      <td>NaN</td>\n",
       "      <td>NaN</td>\n",
       "      <td>NaN</td>\n",
       "      <td>NaN</td>\n",
       "    </tr>\n",
       "    <tr>\n",
       "      <th>ehrapycat_day_icu_intime_Saturday</th>\n",
       "      <td>1</td>\n",
       "      <td>0.056306</td>\n",
       "      <td>NaN</td>\n",
       "      <td>NaN</td>\n",
       "      <td>NaN</td>\n",
       "      <td>NaN</td>\n",
       "      <td>NaN</td>\n",
       "    </tr>\n",
       "    <tr>\n",
       "      <th>ehrapycat_day_icu_intime_Sunday</th>\n",
       "      <td>1</td>\n",
       "      <td>0.056306</td>\n",
       "      <td>NaN</td>\n",
       "      <td>NaN</td>\n",
       "      <td>NaN</td>\n",
       "      <td>NaN</td>\n",
       "      <td>NaN</td>\n",
       "    </tr>\n",
       "    <tr>\n",
       "      <th>ehrapycat_day_icu_intime_Thursday</th>\n",
       "      <td>1</td>\n",
       "      <td>0.056306</td>\n",
       "      <td>NaN</td>\n",
       "      <td>NaN</td>\n",
       "      <td>NaN</td>\n",
       "      <td>NaN</td>\n",
       "      <td>NaN</td>\n",
       "    </tr>\n",
       "    <tr>\n",
       "      <th>ehrapycat_day_icu_intime_Tuesday</th>\n",
       "      <td>1</td>\n",
       "      <td>0.056306</td>\n",
       "      <td>NaN</td>\n",
       "      <td>NaN</td>\n",
       "      <td>NaN</td>\n",
       "      <td>NaN</td>\n",
       "      <td>NaN</td>\n",
       "    </tr>\n",
       "    <tr>\n",
       "      <th>ehrapycat_day_icu_intime_Wednesday</th>\n",
       "      <td>1</td>\n",
       "      <td>0.056306</td>\n",
       "      <td>NaN</td>\n",
       "      <td>NaN</td>\n",
       "      <td>NaN</td>\n",
       "      <td>NaN</td>\n",
       "      <td>NaN</td>\n",
       "    </tr>\n",
       "    <tr>\n",
       "      <th>ehrapycat_day_icu_intime_nan</th>\n",
       "      <td>1</td>\n",
       "      <td>0.056306</td>\n",
       "      <td>NaN</td>\n",
       "      <td>NaN</td>\n",
       "      <td>NaN</td>\n",
       "      <td>NaN</td>\n",
       "      <td>NaN</td>\n",
       "    </tr>\n",
       "    <tr>\n",
       "      <th>aline_flg</th>\n",
       "      <td>0</td>\n",
       "      <td>0.000000</td>\n",
       "      <td>NaN</td>\n",
       "      <td>NaN</td>\n",
       "      <td>NaN</td>\n",
       "      <td>NaN</td>\n",
       "      <td>NaN</td>\n",
       "    </tr>\n",
       "    <tr>\n",
       "      <th>icu_los_day</th>\n",
       "      <td>0</td>\n",
       "      <td>0.000000</td>\n",
       "      <td>NaN</td>\n",
       "      <td>NaN</td>\n",
       "      <td>NaN</td>\n",
       "      <td>NaN</td>\n",
       "      <td>NaN</td>\n",
       "    </tr>\n",
       "    <tr>\n",
       "      <th>hospital_los_day</th>\n",
       "      <td>0</td>\n",
       "      <td>0.000000</td>\n",
       "      <td>NaN</td>\n",
       "      <td>NaN</td>\n",
       "      <td>NaN</td>\n",
       "      <td>NaN</td>\n",
       "      <td>NaN</td>\n",
       "    </tr>\n",
       "    <tr>\n",
       "      <th>age</th>\n",
       "      <td>0</td>\n",
       "      <td>0.000000</td>\n",
       "      <td>NaN</td>\n",
       "      <td>NaN</td>\n",
       "      <td>NaN</td>\n",
       "      <td>NaN</td>\n",
       "      <td>NaN</td>\n",
       "    </tr>\n",
       "    <tr>\n",
       "      <th>gender_num</th>\n",
       "      <td>1</td>\n",
       "      <td>0.056306</td>\n",
       "      <td>NaN</td>\n",
       "      <td>NaN</td>\n",
       "      <td>NaN</td>\n",
       "      <td>NaN</td>\n",
       "      <td>NaN</td>\n",
       "    </tr>\n",
       "    <tr>\n",
       "      <th>weight_first</th>\n",
       "      <td>110</td>\n",
       "      <td>6.193694</td>\n",
       "      <td>NaN</td>\n",
       "      <td>NaN</td>\n",
       "      <td>NaN</td>\n",
       "      <td>NaN</td>\n",
       "      <td>NaN</td>\n",
       "    </tr>\n",
       "    <tr>\n",
       "      <th>bmi</th>\n",
       "      <td>466</td>\n",
       "      <td>26.238739</td>\n",
       "      <td>NaN</td>\n",
       "      <td>NaN</td>\n",
       "      <td>NaN</td>\n",
       "      <td>NaN</td>\n",
       "      <td>NaN</td>\n",
       "    </tr>\n",
       "    <tr>\n",
       "      <th>sapsi_first</th>\n",
       "      <td>85</td>\n",
       "      <td>4.786036</td>\n",
       "      <td>NaN</td>\n",
       "      <td>NaN</td>\n",
       "      <td>NaN</td>\n",
       "      <td>NaN</td>\n",
       "      <td>NaN</td>\n",
       "    </tr>\n",
       "    <tr>\n",
       "      <th>sofa_first</th>\n",
       "      <td>6</td>\n",
       "      <td>0.337838</td>\n",
       "      <td>NaN</td>\n",
       "      <td>NaN</td>\n",
       "      <td>NaN</td>\n",
       "      <td>NaN</td>\n",
       "      <td>NaN</td>\n",
       "    </tr>\n",
       "    <tr>\n",
       "      <th>service_num</th>\n",
       "      <td>0</td>\n",
       "      <td>0.000000</td>\n",
       "      <td>NaN</td>\n",
       "      <td>NaN</td>\n",
       "      <td>NaN</td>\n",
       "      <td>NaN</td>\n",
       "      <td>NaN</td>\n",
       "    </tr>\n",
       "    <tr>\n",
       "      <th>day_icu_intime_num</th>\n",
       "      <td>1</td>\n",
       "      <td>0.056306</td>\n",
       "      <td>NaN</td>\n",
       "      <td>NaN</td>\n",
       "      <td>NaN</td>\n",
       "      <td>NaN</td>\n",
       "      <td>NaN</td>\n",
       "    </tr>\n",
       "    <tr>\n",
       "      <th>hour_icu_intime</th>\n",
       "      <td>0</td>\n",
       "      <td>0.000000</td>\n",
       "      <td>NaN</td>\n",
       "      <td>NaN</td>\n",
       "      <td>NaN</td>\n",
       "      <td>NaN</td>\n",
       "      <td>NaN</td>\n",
       "    </tr>\n",
       "    <tr>\n",
       "      <th>hosp_exp_flg</th>\n",
       "      <td>0</td>\n",
       "      <td>0.000000</td>\n",
       "      <td>NaN</td>\n",
       "      <td>NaN</td>\n",
       "      <td>NaN</td>\n",
       "      <td>NaN</td>\n",
       "      <td>NaN</td>\n",
       "    </tr>\n",
       "    <tr>\n",
       "      <th>icu_exp_flg</th>\n",
       "      <td>0</td>\n",
       "      <td>0.000000</td>\n",
       "      <td>NaN</td>\n",
       "      <td>NaN</td>\n",
       "      <td>NaN</td>\n",
       "      <td>NaN</td>\n",
       "      <td>NaN</td>\n",
       "    </tr>\n",
       "    <tr>\n",
       "      <th>day_28_flg</th>\n",
       "      <td>0</td>\n",
       "      <td>0.000000</td>\n",
       "      <td>NaN</td>\n",
       "      <td>NaN</td>\n",
       "      <td>NaN</td>\n",
       "      <td>NaN</td>\n",
       "      <td>NaN</td>\n",
       "    </tr>\n",
       "    <tr>\n",
       "      <th>mort_day_censored</th>\n",
       "      <td>0</td>\n",
       "      <td>0.000000</td>\n",
       "      <td>NaN</td>\n",
       "      <td>NaN</td>\n",
       "      <td>NaN</td>\n",
       "      <td>NaN</td>\n",
       "      <td>NaN</td>\n",
       "    </tr>\n",
       "    <tr>\n",
       "      <th>censor_flg</th>\n",
       "      <td>0</td>\n",
       "      <td>0.000000</td>\n",
       "      <td>NaN</td>\n",
       "      <td>NaN</td>\n",
       "      <td>NaN</td>\n",
       "      <td>NaN</td>\n",
       "      <td>NaN</td>\n",
       "    </tr>\n",
       "    <tr>\n",
       "      <th>sepsis_flg</th>\n",
       "      <td>0</td>\n",
       "      <td>0.000000</td>\n",
       "      <td>NaN</td>\n",
       "      <td>NaN</td>\n",
       "      <td>NaN</td>\n",
       "      <td>NaN</td>\n",
       "      <td>NaN</td>\n",
       "    </tr>\n",
       "    <tr>\n",
       "      <th>chf_flg</th>\n",
       "      <td>0</td>\n",
       "      <td>0.000000</td>\n",
       "      <td>NaN</td>\n",
       "      <td>NaN</td>\n",
       "      <td>NaN</td>\n",
       "      <td>NaN</td>\n",
       "      <td>NaN</td>\n",
       "    </tr>\n",
       "    <tr>\n",
       "      <th>afib_flg</th>\n",
       "      <td>0</td>\n",
       "      <td>0.000000</td>\n",
       "      <td>NaN</td>\n",
       "      <td>NaN</td>\n",
       "      <td>NaN</td>\n",
       "      <td>NaN</td>\n",
       "      <td>NaN</td>\n",
       "    </tr>\n",
       "    <tr>\n",
       "      <th>renal_flg</th>\n",
       "      <td>0</td>\n",
       "      <td>0.000000</td>\n",
       "      <td>NaN</td>\n",
       "      <td>NaN</td>\n",
       "      <td>NaN</td>\n",
       "      <td>NaN</td>\n",
       "      <td>NaN</td>\n",
       "    </tr>\n",
       "    <tr>\n",
       "      <th>liver_flg</th>\n",
       "      <td>0</td>\n",
       "      <td>0.000000</td>\n",
       "      <td>NaN</td>\n",
       "      <td>NaN</td>\n",
       "      <td>NaN</td>\n",
       "      <td>NaN</td>\n",
       "      <td>NaN</td>\n",
       "    </tr>\n",
       "    <tr>\n",
       "      <th>copd_flg</th>\n",
       "      <td>0</td>\n",
       "      <td>0.000000</td>\n",
       "      <td>NaN</td>\n",
       "      <td>NaN</td>\n",
       "      <td>NaN</td>\n",
       "      <td>NaN</td>\n",
       "      <td>NaN</td>\n",
       "    </tr>\n",
       "    <tr>\n",
       "      <th>cad_flg</th>\n",
       "      <td>0</td>\n",
       "      <td>0.000000</td>\n",
       "      <td>NaN</td>\n",
       "      <td>NaN</td>\n",
       "      <td>NaN</td>\n",
       "      <td>NaN</td>\n",
       "      <td>NaN</td>\n",
       "    </tr>\n",
       "    <tr>\n",
       "      <th>stroke_flg</th>\n",
       "      <td>0</td>\n",
       "      <td>0.000000</td>\n",
       "      <td>NaN</td>\n",
       "      <td>NaN</td>\n",
       "      <td>NaN</td>\n",
       "      <td>NaN</td>\n",
       "      <td>NaN</td>\n",
       "    </tr>\n",
       "    <tr>\n",
       "      <th>mal_flg</th>\n",
       "      <td>0</td>\n",
       "      <td>0.000000</td>\n",
       "      <td>NaN</td>\n",
       "      <td>NaN</td>\n",
       "      <td>NaN</td>\n",
       "      <td>NaN</td>\n",
       "      <td>NaN</td>\n",
       "    </tr>\n",
       "    <tr>\n",
       "      <th>resp_flg</th>\n",
       "      <td>0</td>\n",
       "      <td>0.000000</td>\n",
       "      <td>NaN</td>\n",
       "      <td>NaN</td>\n",
       "      <td>NaN</td>\n",
       "      <td>NaN</td>\n",
       "      <td>NaN</td>\n",
       "    </tr>\n",
       "    <tr>\n",
       "      <th>map_1st</th>\n",
       "      <td>0</td>\n",
       "      <td>0.000000</td>\n",
       "      <td>NaN</td>\n",
       "      <td>NaN</td>\n",
       "      <td>NaN</td>\n",
       "      <td>NaN</td>\n",
       "      <td>NaN</td>\n",
       "    </tr>\n",
       "    <tr>\n",
       "      <th>hr_1st</th>\n",
       "      <td>0</td>\n",
       "      <td>0.000000</td>\n",
       "      <td>NaN</td>\n",
       "      <td>NaN</td>\n",
       "      <td>NaN</td>\n",
       "      <td>NaN</td>\n",
       "      <td>NaN</td>\n",
       "    </tr>\n",
       "    <tr>\n",
       "      <th>temp_1st</th>\n",
       "      <td>3</td>\n",
       "      <td>0.168919</td>\n",
       "      <td>NaN</td>\n",
       "      <td>NaN</td>\n",
       "      <td>NaN</td>\n",
       "      <td>NaN</td>\n",
       "      <td>NaN</td>\n",
       "    </tr>\n",
       "    <tr>\n",
       "      <th>spo2_1st</th>\n",
       "      <td>0</td>\n",
       "      <td>0.000000</td>\n",
       "      <td>NaN</td>\n",
       "      <td>NaN</td>\n",
       "      <td>NaN</td>\n",
       "      <td>NaN</td>\n",
       "      <td>NaN</td>\n",
       "    </tr>\n",
       "    <tr>\n",
       "      <th>abg_count</th>\n",
       "      <td>0</td>\n",
       "      <td>0.000000</td>\n",
       "      <td>NaN</td>\n",
       "      <td>NaN</td>\n",
       "      <td>NaN</td>\n",
       "      <td>NaN</td>\n",
       "      <td>NaN</td>\n",
       "    </tr>\n",
       "    <tr>\n",
       "      <th>wbc_first</th>\n",
       "      <td>8</td>\n",
       "      <td>0.450450</td>\n",
       "      <td>NaN</td>\n",
       "      <td>NaN</td>\n",
       "      <td>NaN</td>\n",
       "      <td>NaN</td>\n",
       "      <td>NaN</td>\n",
       "    </tr>\n",
       "    <tr>\n",
       "      <th>hgb_first</th>\n",
       "      <td>8</td>\n",
       "      <td>0.450450</td>\n",
       "      <td>NaN</td>\n",
       "      <td>NaN</td>\n",
       "      <td>NaN</td>\n",
       "      <td>NaN</td>\n",
       "      <td>NaN</td>\n",
       "    </tr>\n",
       "    <tr>\n",
       "      <th>platelet_first</th>\n",
       "      <td>8</td>\n",
       "      <td>0.450450</td>\n",
       "      <td>NaN</td>\n",
       "      <td>NaN</td>\n",
       "      <td>NaN</td>\n",
       "      <td>NaN</td>\n",
       "      <td>NaN</td>\n",
       "    </tr>\n",
       "    <tr>\n",
       "      <th>sodium_first</th>\n",
       "      <td>5</td>\n",
       "      <td>0.281532</td>\n",
       "      <td>NaN</td>\n",
       "      <td>NaN</td>\n",
       "      <td>NaN</td>\n",
       "      <td>NaN</td>\n",
       "      <td>NaN</td>\n",
       "    </tr>\n",
       "    <tr>\n",
       "      <th>potassium_first</th>\n",
       "      <td>5</td>\n",
       "      <td>0.281532</td>\n",
       "      <td>NaN</td>\n",
       "      <td>NaN</td>\n",
       "      <td>NaN</td>\n",
       "      <td>NaN</td>\n",
       "      <td>NaN</td>\n",
       "    </tr>\n",
       "    <tr>\n",
       "      <th>tco2_first</th>\n",
       "      <td>5</td>\n",
       "      <td>0.281532</td>\n",
       "      <td>NaN</td>\n",
       "      <td>NaN</td>\n",
       "      <td>NaN</td>\n",
       "      <td>NaN</td>\n",
       "      <td>NaN</td>\n",
       "    </tr>\n",
       "    <tr>\n",
       "      <th>chloride_first</th>\n",
       "      <td>5</td>\n",
       "      <td>0.281532</td>\n",
       "      <td>NaN</td>\n",
       "      <td>NaN</td>\n",
       "      <td>NaN</td>\n",
       "      <td>NaN</td>\n",
       "      <td>NaN</td>\n",
       "    </tr>\n",
       "    <tr>\n",
       "      <th>bun_first</th>\n",
       "      <td>5</td>\n",
       "      <td>0.281532</td>\n",
       "      <td>NaN</td>\n",
       "      <td>NaN</td>\n",
       "      <td>NaN</td>\n",
       "      <td>NaN</td>\n",
       "      <td>NaN</td>\n",
       "    </tr>\n",
       "    <tr>\n",
       "      <th>creatinine_first</th>\n",
       "      <td>6</td>\n",
       "      <td>0.337838</td>\n",
       "      <td>NaN</td>\n",
       "      <td>NaN</td>\n",
       "      <td>NaN</td>\n",
       "      <td>NaN</td>\n",
       "      <td>NaN</td>\n",
       "    </tr>\n",
       "    <tr>\n",
       "      <th>po2_first</th>\n",
       "      <td>186</td>\n",
       "      <td>10.472973</td>\n",
       "      <td>NaN</td>\n",
       "      <td>NaN</td>\n",
       "      <td>NaN</td>\n",
       "      <td>NaN</td>\n",
       "      <td>NaN</td>\n",
       "    </tr>\n",
       "    <tr>\n",
       "      <th>pco2_first</th>\n",
       "      <td>186</td>\n",
       "      <td>10.472973</td>\n",
       "      <td>NaN</td>\n",
       "      <td>NaN</td>\n",
       "      <td>NaN</td>\n",
       "      <td>NaN</td>\n",
       "      <td>NaN</td>\n",
       "    </tr>\n",
       "    <tr>\n",
       "      <th>iv_day_1</th>\n",
       "      <td>143</td>\n",
       "      <td>8.051802</td>\n",
       "      <td>NaN</td>\n",
       "      <td>NaN</td>\n",
       "      <td>NaN</td>\n",
       "      <td>NaN</td>\n",
       "      <td>NaN</td>\n",
       "    </tr>\n",
       "  </tbody>\n",
       "</table>\n",
       "</div>"
      ],
      "text/plain": [
       "                                    missing_values_abs  missing_values_pct  \\\n",
       "ehrapycat_service_unit_FICU                          0            0.000000   \n",
       "ehrapycat_service_unit_MICU                          0            0.000000   \n",
       "ehrapycat_service_unit_SICU                          0            0.000000   \n",
       "ehrapycat_day_icu_intime_Friday                      1            0.056306   \n",
       "ehrapycat_day_icu_intime_Monday                      1            0.056306   \n",
       "ehrapycat_day_icu_intime_Saturday                    1            0.056306   \n",
       "ehrapycat_day_icu_intime_Sunday                      1            0.056306   \n",
       "ehrapycat_day_icu_intime_Thursday                    1            0.056306   \n",
       "ehrapycat_day_icu_intime_Tuesday                     1            0.056306   \n",
       "ehrapycat_day_icu_intime_Wednesday                   1            0.056306   \n",
       "ehrapycat_day_icu_intime_nan                         1            0.056306   \n",
       "aline_flg                                            0            0.000000   \n",
       "icu_los_day                                          0            0.000000   \n",
       "hospital_los_day                                     0            0.000000   \n",
       "age                                                  0            0.000000   \n",
       "gender_num                                           1            0.056306   \n",
       "weight_first                                       110            6.193694   \n",
       "bmi                                                466           26.238739   \n",
       "sapsi_first                                         85            4.786036   \n",
       "sofa_first                                           6            0.337838   \n",
       "service_num                                          0            0.000000   \n",
       "day_icu_intime_num                                   1            0.056306   \n",
       "hour_icu_intime                                      0            0.000000   \n",
       "hosp_exp_flg                                         0            0.000000   \n",
       "icu_exp_flg                                          0            0.000000   \n",
       "day_28_flg                                           0            0.000000   \n",
       "mort_day_censored                                    0            0.000000   \n",
       "censor_flg                                           0            0.000000   \n",
       "sepsis_flg                                           0            0.000000   \n",
       "chf_flg                                              0            0.000000   \n",
       "afib_flg                                             0            0.000000   \n",
       "renal_flg                                            0            0.000000   \n",
       "liver_flg                                            0            0.000000   \n",
       "copd_flg                                             0            0.000000   \n",
       "cad_flg                                              0            0.000000   \n",
       "stroke_flg                                           0            0.000000   \n",
       "mal_flg                                              0            0.000000   \n",
       "resp_flg                                             0            0.000000   \n",
       "map_1st                                              0            0.000000   \n",
       "hr_1st                                               0            0.000000   \n",
       "temp_1st                                             3            0.168919   \n",
       "spo2_1st                                             0            0.000000   \n",
       "abg_count                                            0            0.000000   \n",
       "wbc_first                                            8            0.450450   \n",
       "hgb_first                                            8            0.450450   \n",
       "platelet_first                                       8            0.450450   \n",
       "sodium_first                                         5            0.281532   \n",
       "potassium_first                                      5            0.281532   \n",
       "tco2_first                                           5            0.281532   \n",
       "chloride_first                                       5            0.281532   \n",
       "bun_first                                            5            0.281532   \n",
       "creatinine_first                                     6            0.337838   \n",
       "po2_first                                          186           10.472973   \n",
       "pco2_first                                         186           10.472973   \n",
       "iv_day_1                                           143            8.051802   \n",
       "\n",
       "                                    mean  median  standard_deviation  min  max  \n",
       "ehrapycat_service_unit_FICU          NaN     NaN                 NaN  NaN  NaN  \n",
       "ehrapycat_service_unit_MICU          NaN     NaN                 NaN  NaN  NaN  \n",
       "ehrapycat_service_unit_SICU          NaN     NaN                 NaN  NaN  NaN  \n",
       "ehrapycat_day_icu_intime_Friday      NaN     NaN                 NaN  NaN  NaN  \n",
       "ehrapycat_day_icu_intime_Monday      NaN     NaN                 NaN  NaN  NaN  \n",
       "ehrapycat_day_icu_intime_Saturday    NaN     NaN                 NaN  NaN  NaN  \n",
       "ehrapycat_day_icu_intime_Sunday      NaN     NaN                 NaN  NaN  NaN  \n",
       "ehrapycat_day_icu_intime_Thursday    NaN     NaN                 NaN  NaN  NaN  \n",
       "ehrapycat_day_icu_intime_Tuesday     NaN     NaN                 NaN  NaN  NaN  \n",
       "ehrapycat_day_icu_intime_Wednesday   NaN     NaN                 NaN  NaN  NaN  \n",
       "ehrapycat_day_icu_intime_nan         NaN     NaN                 NaN  NaN  NaN  \n",
       "aline_flg                            NaN     NaN                 NaN  NaN  NaN  \n",
       "icu_los_day                          NaN     NaN                 NaN  NaN  NaN  \n",
       "hospital_los_day                     NaN     NaN                 NaN  NaN  NaN  \n",
       "age                                  NaN     NaN                 NaN  NaN  NaN  \n",
       "gender_num                           NaN     NaN                 NaN  NaN  NaN  \n",
       "weight_first                         NaN     NaN                 NaN  NaN  NaN  \n",
       "bmi                                  NaN     NaN                 NaN  NaN  NaN  \n",
       "sapsi_first                          NaN     NaN                 NaN  NaN  NaN  \n",
       "sofa_first                           NaN     NaN                 NaN  NaN  NaN  \n",
       "service_num                          NaN     NaN                 NaN  NaN  NaN  \n",
       "day_icu_intime_num                   NaN     NaN                 NaN  NaN  NaN  \n",
       "hour_icu_intime                      NaN     NaN                 NaN  NaN  NaN  \n",
       "hosp_exp_flg                         NaN     NaN                 NaN  NaN  NaN  \n",
       "icu_exp_flg                          NaN     NaN                 NaN  NaN  NaN  \n",
       "day_28_flg                           NaN     NaN                 NaN  NaN  NaN  \n",
       "mort_day_censored                    NaN     NaN                 NaN  NaN  NaN  \n",
       "censor_flg                           NaN     NaN                 NaN  NaN  NaN  \n",
       "sepsis_flg                           NaN     NaN                 NaN  NaN  NaN  \n",
       "chf_flg                              NaN     NaN                 NaN  NaN  NaN  \n",
       "afib_flg                             NaN     NaN                 NaN  NaN  NaN  \n",
       "renal_flg                            NaN     NaN                 NaN  NaN  NaN  \n",
       "liver_flg                            NaN     NaN                 NaN  NaN  NaN  \n",
       "copd_flg                             NaN     NaN                 NaN  NaN  NaN  \n",
       "cad_flg                              NaN     NaN                 NaN  NaN  NaN  \n",
       "stroke_flg                           NaN     NaN                 NaN  NaN  NaN  \n",
       "mal_flg                              NaN     NaN                 NaN  NaN  NaN  \n",
       "resp_flg                             NaN     NaN                 NaN  NaN  NaN  \n",
       "map_1st                              NaN     NaN                 NaN  NaN  NaN  \n",
       "hr_1st                               NaN     NaN                 NaN  NaN  NaN  \n",
       "temp_1st                             NaN     NaN                 NaN  NaN  NaN  \n",
       "spo2_1st                             NaN     NaN                 NaN  NaN  NaN  \n",
       "abg_count                            NaN     NaN                 NaN  NaN  NaN  \n",
       "wbc_first                            NaN     NaN                 NaN  NaN  NaN  \n",
       "hgb_first                            NaN     NaN                 NaN  NaN  NaN  \n",
       "platelet_first                       NaN     NaN                 NaN  NaN  NaN  \n",
       "sodium_first                         NaN     NaN                 NaN  NaN  NaN  \n",
       "potassium_first                      NaN     NaN                 NaN  NaN  NaN  \n",
       "tco2_first                           NaN     NaN                 NaN  NaN  NaN  \n",
       "chloride_first                       NaN     NaN                 NaN  NaN  NaN  \n",
       "bun_first                            NaN     NaN                 NaN  NaN  NaN  \n",
       "creatinine_first                     NaN     NaN                 NaN  NaN  NaN  \n",
       "po2_first                            NaN     NaN                 NaN  NaN  NaN  \n",
       "pco2_first                           NaN     NaN                 NaN  NaN  NaN  \n",
       "iv_day_1                             NaN     NaN                 NaN  NaN  NaN  "
      ]
     },
     "execution_count": 9,
     "metadata": {},
     "output_type": "execute_result"
    }
   ],
   "source": [
    "adata2.var"
   ]
  }
 ],
 "metadata": {
  "kernelspec": {
   "display_name": "Python 3.9.13 ('.venv': poetry)",
   "language": "python",
   "name": "python3"
  },
  "language_info": {
   "codemirror_mode": {
    "name": "ipython",
    "version": 3
   },
   "file_extension": ".py",
   "mimetype": "text/x-python",
   "name": "python",
   "nbconvert_exporter": "python",
   "pygments_lexer": "ipython3",
   "version": "3.8.15"
  },
  "orig_nbformat": 4,
  "vscode": {
   "interpreter": {
    "hash": "4ebbee468332224025c1d8a5f51338ab29e79b708cc8a093850abd5116748064"
   }
  }
 },
 "nbformat": 4,
 "nbformat_minor": 2
}
