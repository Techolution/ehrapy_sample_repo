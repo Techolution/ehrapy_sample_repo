{
 "cells": [
  {
   "cell_type": "code",
   "execution_count": 53,
   "id": "ac46d14d",
   "metadata": {},
   "outputs": [],
   "source": [
    "import ehrapy.api as ep\n",
    "import os"
   ]
  },
  {
   "cell_type": "markdown",
   "id": "7d01b06d-cd7a-4caf-8a41-e9ee2202e897",
   "metadata": {},
   "source": [
    "# Fetching the MIMIC II dataset already encoded"
   ]
  },
  {
   "cell_type": "code",
   "execution_count": 54,
   "id": "1e178f6a",
   "metadata": {},
   "outputs": [],
   "source": [
    "adata = ep.data.mimic_2(encode=True)"
   ]
  },
  {
   "cell_type": "code",
   "execution_count": 55,
   "id": "3a0a173a-a85c-4546-ace4-88cb8912d3d9",
   "metadata": {},
   "outputs": [
    {
     "data": {
      "text/plain": [
       "AnnData object with n_obs × n_vars = 1776 × 46\n",
       "    obs: 'service_unit', 'day_icu_intime'\n",
       "    uns: 'categoricals', 'original_values_categoricals', 'current_encodings'\n",
       "    layers: 'original'"
      ]
     },
     "execution_count": 55,
     "metadata": {},
     "output_type": "execute_result"
    }
   ],
   "source": [
    "adata"
   ]
  },
  {
   "cell_type": "code",
   "execution_count": 56,
   "id": "7b504a1a-d2a0-455a-acea-dec6577fe955",
   "metadata": {},
   "outputs": [
    {
     "data": {
      "text/html": [
       "<pre style=\"white-space:pre;overflow-x:auto;line-height:normal;font-family:Menlo,'DejaVu Sans Mono',consolas,'Courier New',monospace\"><span style=\"color: #008000; text-decoration-color: #008000; font-weight: bold\">Variable names for AnnData object with 46 vars</span>                                               \n",
       "<span style=\"color: #0000ff; text-decoration-color: #0000ff\">╠══ </span><span style=\"color: #008000; text-decoration-color: #008000; font-weight: bold\">Obs                                                                                      </span>\n",
       "<span style=\"color: #0000ff; text-decoration-color: #0000ff\">║   ╠══ </span><span style=\"color: #000080; text-decoration-color: #000080; font-weight: bold\">service_unit 🔐; 3 different categories; currently one hot encoded                   </span>\n",
       "<span style=\"color: #0000ff; text-decoration-color: #0000ff\">║   ╚══ </span><span style=\"color: #000080; text-decoration-color: #000080; font-weight: bold\">day_icu_intime 🔐; 7 different categories; currently one hot encoded                 </span>\n",
       "<span style=\"color: #0000ff; text-decoration-color: #0000ff\">╚══ </span><span style=\"color: #008000; text-decoration-color: #008000; font-weight: bold\">🔓 Unencoded variables                                                                   </span>\n",
       "<span style=\"color: #0000ff; text-decoration-color: #0000ff\">    ╠══ </span><span style=\"color: #000080; text-decoration-color: #000080; font-weight: bold\">aline_flg                                                                            </span>\n",
       "<span style=\"color: #0000ff; text-decoration-color: #0000ff\">    ╠══ </span><span style=\"color: #000080; text-decoration-color: #000080; font-weight: bold\">icu_los_day                                                                          </span>\n",
       "<span style=\"color: #0000ff; text-decoration-color: #0000ff\">    ╠══ </span><span style=\"color: #000080; text-decoration-color: #000080; font-weight: bold\">hospital_los_day                                                                     </span>\n",
       "<span style=\"color: #0000ff; text-decoration-color: #0000ff\">    ╠══ </span><span style=\"color: #000080; text-decoration-color: #000080; font-weight: bold\">age                                                                                  </span>\n",
       "<span style=\"color: #0000ff; text-decoration-color: #0000ff\">    ╠══ </span><span style=\"color: #000080; text-decoration-color: #000080; font-weight: bold\">gender_num                                                                           </span>\n",
       "<span style=\"color: #0000ff; text-decoration-color: #0000ff\">    ╠══ </span><span style=\"color: #000080; text-decoration-color: #000080; font-weight: bold\">weight_first                                                                         </span>\n",
       "<span style=\"color: #0000ff; text-decoration-color: #0000ff\">    ╠══ </span><span style=\"color: #000080; text-decoration-color: #000080; font-weight: bold\">bmi                                                                                  </span>\n",
       "<span style=\"color: #0000ff; text-decoration-color: #0000ff\">    ╠══ </span><span style=\"color: #000080; text-decoration-color: #000080; font-weight: bold\">sapsi_first                                                                          </span>\n",
       "<span style=\"color: #0000ff; text-decoration-color: #0000ff\">    ╠══ </span><span style=\"color: #000080; text-decoration-color: #000080; font-weight: bold\">sofa_first                                                                           </span>\n",
       "<span style=\"color: #0000ff; text-decoration-color: #0000ff\">    ╠══ </span><span style=\"color: #000080; text-decoration-color: #000080; font-weight: bold\">service_num                                                                          </span>\n",
       "<span style=\"color: #0000ff; text-decoration-color: #0000ff\">    ╠══ </span><span style=\"color: #000080; text-decoration-color: #000080; font-weight: bold\">day_icu_intime_num                                                                   </span>\n",
       "<span style=\"color: #0000ff; text-decoration-color: #0000ff\">    ╠══ </span><span style=\"color: #000080; text-decoration-color: #000080; font-weight: bold\">hour_icu_intime                                                                      </span>\n",
       "<span style=\"color: #0000ff; text-decoration-color: #0000ff\">    ╠══ </span><span style=\"color: #000080; text-decoration-color: #000080; font-weight: bold\">hosp_exp_flg                                                                         </span>\n",
       "<span style=\"color: #0000ff; text-decoration-color: #0000ff\">    ╠══ </span><span style=\"color: #000080; text-decoration-color: #000080; font-weight: bold\">icu_exp_flg                                                                          </span>\n",
       "<span style=\"color: #0000ff; text-decoration-color: #0000ff\">    ╠══ </span><span style=\"color: #000080; text-decoration-color: #000080; font-weight: bold\">day_28_flg                                                                           </span>\n",
       "<span style=\"color: #0000ff; text-decoration-color: #0000ff\">    ╠══ </span><span style=\"color: #000080; text-decoration-color: #000080; font-weight: bold\">mort_day_censored                                                                    </span>\n",
       "<span style=\"color: #0000ff; text-decoration-color: #0000ff\">    ╠══ </span><span style=\"color: #000080; text-decoration-color: #000080; font-weight: bold\">censor_flg                                                                           </span>\n",
       "<span style=\"color: #0000ff; text-decoration-color: #0000ff\">    ╠══ </span><span style=\"color: #000080; text-decoration-color: #000080; font-weight: bold\">sepsis_flg                                                                           </span>\n",
       "<span style=\"color: #0000ff; text-decoration-color: #0000ff\">    ╠══ </span><span style=\"color: #000080; text-decoration-color: #000080; font-weight: bold\">chf_flg                                                                              </span>\n",
       "<span style=\"color: #0000ff; text-decoration-color: #0000ff\">    ╠══ </span><span style=\"color: #000080; text-decoration-color: #000080; font-weight: bold\">afib_flg                                                                             </span>\n",
       "<span style=\"color: #0000ff; text-decoration-color: #0000ff\">    ╠══ </span><span style=\"color: #000080; text-decoration-color: #000080; font-weight: bold\">renal_flg                                                                            </span>\n",
       "<span style=\"color: #0000ff; text-decoration-color: #0000ff\">    ╠══ </span><span style=\"color: #000080; text-decoration-color: #000080; font-weight: bold\">liver_flg                                                                            </span>\n",
       "<span style=\"color: #0000ff; text-decoration-color: #0000ff\">    ╠══ </span><span style=\"color: #000080; text-decoration-color: #000080; font-weight: bold\">copd_flg                                                                             </span>\n",
       "<span style=\"color: #0000ff; text-decoration-color: #0000ff\">    ╠══ </span><span style=\"color: #000080; text-decoration-color: #000080; font-weight: bold\">cad_flg                                                                              </span>\n",
       "<span style=\"color: #0000ff; text-decoration-color: #0000ff\">    ╠══ </span><span style=\"color: #000080; text-decoration-color: #000080; font-weight: bold\">stroke_flg                                                                           </span>\n",
       "<span style=\"color: #0000ff; text-decoration-color: #0000ff\">    ╠══ </span><span style=\"color: #000080; text-decoration-color: #000080; font-weight: bold\">mal_flg                                                                              </span>\n",
       "<span style=\"color: #0000ff; text-decoration-color: #0000ff\">    ╠══ </span><span style=\"color: #000080; text-decoration-color: #000080; font-weight: bold\">resp_flg                                                                             </span>\n",
       "<span style=\"color: #0000ff; text-decoration-color: #0000ff\">    ╠══ </span><span style=\"color: #000080; text-decoration-color: #000080; font-weight: bold\">map_1st                                                                              </span>\n",
       "<span style=\"color: #0000ff; text-decoration-color: #0000ff\">    ╠══ </span><span style=\"color: #000080; text-decoration-color: #000080; font-weight: bold\">hr_1st                                                                               </span>\n",
       "<span style=\"color: #0000ff; text-decoration-color: #0000ff\">    ╠══ </span><span style=\"color: #000080; text-decoration-color: #000080; font-weight: bold\">temp_1st                                                                             </span>\n",
       "<span style=\"color: #0000ff; text-decoration-color: #0000ff\">    ╠══ </span><span style=\"color: #000080; text-decoration-color: #000080; font-weight: bold\">spo2_1st                                                                             </span>\n",
       "<span style=\"color: #0000ff; text-decoration-color: #0000ff\">    ╠══ </span><span style=\"color: #000080; text-decoration-color: #000080; font-weight: bold\">abg_count                                                                            </span>\n",
       "<span style=\"color: #0000ff; text-decoration-color: #0000ff\">    ╠══ </span><span style=\"color: #000080; text-decoration-color: #000080; font-weight: bold\">wbc_first                                                                            </span>\n",
       "<span style=\"color: #0000ff; text-decoration-color: #0000ff\">    ╠══ </span><span style=\"color: #000080; text-decoration-color: #000080; font-weight: bold\">hgb_first                                                                            </span>\n",
       "<span style=\"color: #0000ff; text-decoration-color: #0000ff\">    ╠══ </span><span style=\"color: #000080; text-decoration-color: #000080; font-weight: bold\">platelet_first                                                                       </span>\n",
       "<span style=\"color: #0000ff; text-decoration-color: #0000ff\">    ╠══ </span><span style=\"color: #000080; text-decoration-color: #000080; font-weight: bold\">sodium_first                                                                         </span>\n",
       "<span style=\"color: #0000ff; text-decoration-color: #0000ff\">    ╠══ </span><span style=\"color: #000080; text-decoration-color: #000080; font-weight: bold\">potassium_first                                                                      </span>\n",
       "<span style=\"color: #0000ff; text-decoration-color: #0000ff\">    ╠══ </span><span style=\"color: #000080; text-decoration-color: #000080; font-weight: bold\">tco2_first                                                                           </span>\n",
       "<span style=\"color: #0000ff; text-decoration-color: #0000ff\">    ╠══ </span><span style=\"color: #000080; text-decoration-color: #000080; font-weight: bold\">chloride_first                                                                       </span>\n",
       "<span style=\"color: #0000ff; text-decoration-color: #0000ff\">    ╠══ </span><span style=\"color: #000080; text-decoration-color: #000080; font-weight: bold\">bun_first                                                                            </span>\n",
       "<span style=\"color: #0000ff; text-decoration-color: #0000ff\">    ╠══ </span><span style=\"color: #000080; text-decoration-color: #000080; font-weight: bold\">creatinine_first                                                                     </span>\n",
       "<span style=\"color: #0000ff; text-decoration-color: #0000ff\">    ╠══ </span><span style=\"color: #000080; text-decoration-color: #000080; font-weight: bold\">po2_first                                                                            </span>\n",
       "<span style=\"color: #0000ff; text-decoration-color: #0000ff\">    ╠══ </span><span style=\"color: #000080; text-decoration-color: #000080; font-weight: bold\">pco2_first                                                                           </span>\n",
       "<span style=\"color: #0000ff; text-decoration-color: #0000ff\">    ╚══ </span><span style=\"color: #000080; text-decoration-color: #000080; font-weight: bold\">iv_day_1                                                                             </span>\n",
       "</pre>\n"
      ],
      "text/plain": [
       "\u001b[1;32mVariable names for AnnData object with 46 vars\u001b[0m                                               \n",
       "\u001b[94m╠══ \u001b[0m\u001b[1;32mObs\u001b[0m\u001b[1;32m                                                                                      \u001b[0m\n",
       "\u001b[94m║   \u001b[0m\u001b[94m╠══ \u001b[0m\u001b[1;34mservice_unit 🔐; 3 different categories; currently one hot encoded\u001b[0m\u001b[1;34m                   \u001b[0m\n",
       "\u001b[94m║   \u001b[0m\u001b[94m╚══ \u001b[0m\u001b[1;34mday_icu_intime 🔐; 7 different categories; currently one hot encoded\u001b[0m\u001b[1;34m                 \u001b[0m\n",
       "\u001b[94m╚══ \u001b[0m\u001b[1;32m🔓 Unencoded variables\u001b[0m\u001b[1;32m                                                                   \u001b[0m\n",
       "\u001b[94m    \u001b[0m\u001b[94m╠══ \u001b[0m\u001b[1;34maline_flg\u001b[0m\u001b[1;34m                                                                            \u001b[0m\n",
       "\u001b[94m    \u001b[0m\u001b[94m╠══ \u001b[0m\u001b[1;34micu_los_day\u001b[0m\u001b[1;34m                                                                          \u001b[0m\n",
       "\u001b[94m    \u001b[0m\u001b[94m╠══ \u001b[0m\u001b[1;34mhospital_los_day\u001b[0m\u001b[1;34m                                                                     \u001b[0m\n",
       "\u001b[94m    \u001b[0m\u001b[94m╠══ \u001b[0m\u001b[1;34mage\u001b[0m\u001b[1;34m                                                                                  \u001b[0m\n",
       "\u001b[94m    \u001b[0m\u001b[94m╠══ \u001b[0m\u001b[1;34mgender_num\u001b[0m\u001b[1;34m                                                                           \u001b[0m\n",
       "\u001b[94m    \u001b[0m\u001b[94m╠══ \u001b[0m\u001b[1;34mweight_first\u001b[0m\u001b[1;34m                                                                         \u001b[0m\n",
       "\u001b[94m    \u001b[0m\u001b[94m╠══ \u001b[0m\u001b[1;34mbmi\u001b[0m\u001b[1;34m                                                                                  \u001b[0m\n",
       "\u001b[94m    \u001b[0m\u001b[94m╠══ \u001b[0m\u001b[1;34msapsi_first\u001b[0m\u001b[1;34m                                                                          \u001b[0m\n",
       "\u001b[94m    \u001b[0m\u001b[94m╠══ \u001b[0m\u001b[1;34msofa_first\u001b[0m\u001b[1;34m                                                                           \u001b[0m\n",
       "\u001b[94m    \u001b[0m\u001b[94m╠══ \u001b[0m\u001b[1;34mservice_num\u001b[0m\u001b[1;34m                                                                          \u001b[0m\n",
       "\u001b[94m    \u001b[0m\u001b[94m╠══ \u001b[0m\u001b[1;34mday_icu_intime_num\u001b[0m\u001b[1;34m                                                                   \u001b[0m\n",
       "\u001b[94m    \u001b[0m\u001b[94m╠══ \u001b[0m\u001b[1;34mhour_icu_intime\u001b[0m\u001b[1;34m                                                                      \u001b[0m\n",
       "\u001b[94m    \u001b[0m\u001b[94m╠══ \u001b[0m\u001b[1;34mhosp_exp_flg\u001b[0m\u001b[1;34m                                                                         \u001b[0m\n",
       "\u001b[94m    \u001b[0m\u001b[94m╠══ \u001b[0m\u001b[1;34micu_exp_flg\u001b[0m\u001b[1;34m                                                                          \u001b[0m\n",
       "\u001b[94m    \u001b[0m\u001b[94m╠══ \u001b[0m\u001b[1;34mday_28_flg\u001b[0m\u001b[1;34m                                                                           \u001b[0m\n",
       "\u001b[94m    \u001b[0m\u001b[94m╠══ \u001b[0m\u001b[1;34mmort_day_censored\u001b[0m\u001b[1;34m                                                                    \u001b[0m\n",
       "\u001b[94m    \u001b[0m\u001b[94m╠══ \u001b[0m\u001b[1;34mcensor_flg\u001b[0m\u001b[1;34m                                                                           \u001b[0m\n",
       "\u001b[94m    \u001b[0m\u001b[94m╠══ \u001b[0m\u001b[1;34msepsis_flg\u001b[0m\u001b[1;34m                                                                           \u001b[0m\n",
       "\u001b[94m    \u001b[0m\u001b[94m╠══ \u001b[0m\u001b[1;34mchf_flg\u001b[0m\u001b[1;34m                                                                              \u001b[0m\n",
       "\u001b[94m    \u001b[0m\u001b[94m╠══ \u001b[0m\u001b[1;34mafib_flg\u001b[0m\u001b[1;34m                                                                             \u001b[0m\n",
       "\u001b[94m    \u001b[0m\u001b[94m╠══ \u001b[0m\u001b[1;34mrenal_flg\u001b[0m\u001b[1;34m                                                                            \u001b[0m\n",
       "\u001b[94m    \u001b[0m\u001b[94m╠══ \u001b[0m\u001b[1;34mliver_flg\u001b[0m\u001b[1;34m                                                                            \u001b[0m\n",
       "\u001b[94m    \u001b[0m\u001b[94m╠══ \u001b[0m\u001b[1;34mcopd_flg\u001b[0m\u001b[1;34m                                                                             \u001b[0m\n",
       "\u001b[94m    \u001b[0m\u001b[94m╠══ \u001b[0m\u001b[1;34mcad_flg\u001b[0m\u001b[1;34m                                                                              \u001b[0m\n",
       "\u001b[94m    \u001b[0m\u001b[94m╠══ \u001b[0m\u001b[1;34mstroke_flg\u001b[0m\u001b[1;34m                                                                           \u001b[0m\n",
       "\u001b[94m    \u001b[0m\u001b[94m╠══ \u001b[0m\u001b[1;34mmal_flg\u001b[0m\u001b[1;34m                                                                              \u001b[0m\n",
       "\u001b[94m    \u001b[0m\u001b[94m╠══ \u001b[0m\u001b[1;34mresp_flg\u001b[0m\u001b[1;34m                                                                             \u001b[0m\n",
       "\u001b[94m    \u001b[0m\u001b[94m╠══ \u001b[0m\u001b[1;34mmap_1st\u001b[0m\u001b[1;34m                                                                              \u001b[0m\n",
       "\u001b[94m    \u001b[0m\u001b[94m╠══ \u001b[0m\u001b[1;34mhr_1st\u001b[0m\u001b[1;34m                                                                               \u001b[0m\n",
       "\u001b[94m    \u001b[0m\u001b[94m╠══ \u001b[0m\u001b[1;34mtemp_1st\u001b[0m\u001b[1;34m                                                                             \u001b[0m\n",
       "\u001b[94m    \u001b[0m\u001b[94m╠══ \u001b[0m\u001b[1;34mspo2_1st\u001b[0m\u001b[1;34m                                                                             \u001b[0m\n",
       "\u001b[94m    \u001b[0m\u001b[94m╠══ \u001b[0m\u001b[1;34mabg_count\u001b[0m\u001b[1;34m                                                                            \u001b[0m\n",
       "\u001b[94m    \u001b[0m\u001b[94m╠══ \u001b[0m\u001b[1;34mwbc_first\u001b[0m\u001b[1;34m                                                                            \u001b[0m\n",
       "\u001b[94m    \u001b[0m\u001b[94m╠══ \u001b[0m\u001b[1;34mhgb_first\u001b[0m\u001b[1;34m                                                                            \u001b[0m\n",
       "\u001b[94m    \u001b[0m\u001b[94m╠══ \u001b[0m\u001b[1;34mplatelet_first\u001b[0m\u001b[1;34m                                                                       \u001b[0m\n",
       "\u001b[94m    \u001b[0m\u001b[94m╠══ \u001b[0m\u001b[1;34msodium_first\u001b[0m\u001b[1;34m                                                                         \u001b[0m\n",
       "\u001b[94m    \u001b[0m\u001b[94m╠══ \u001b[0m\u001b[1;34mpotassium_first\u001b[0m\u001b[1;34m                                                                      \u001b[0m\n",
       "\u001b[94m    \u001b[0m\u001b[94m╠══ \u001b[0m\u001b[1;34mtco2_first\u001b[0m\u001b[1;34m                                                                           \u001b[0m\n",
       "\u001b[94m    \u001b[0m\u001b[94m╠══ \u001b[0m\u001b[1;34mchloride_first\u001b[0m\u001b[1;34m                                                                       \u001b[0m\n",
       "\u001b[94m    \u001b[0m\u001b[94m╠══ \u001b[0m\u001b[1;34mbun_first\u001b[0m\u001b[1;34m                                                                            \u001b[0m\n",
       "\u001b[94m    \u001b[0m\u001b[94m╠══ \u001b[0m\u001b[1;34mcreatinine_first\u001b[0m\u001b[1;34m                                                                     \u001b[0m\n",
       "\u001b[94m    \u001b[0m\u001b[94m╠══ \u001b[0m\u001b[1;34mpo2_first\u001b[0m\u001b[1;34m                                                                            \u001b[0m\n",
       "\u001b[94m    \u001b[0m\u001b[94m╠══ \u001b[0m\u001b[1;34mpco2_first\u001b[0m\u001b[1;34m                                                                           \u001b[0m\n",
       "\u001b[94m    \u001b[0m\u001b[94m╚══ \u001b[0m\u001b[1;34miv_day_1\u001b[0m\u001b[1;34m                                                                             \u001b[0m\n"
      ]
     },
     "metadata": {},
     "output_type": "display_data"
    }
   ],
   "source": [
    "ep.util.adata_type_overview(adata)"
   ]
  },
  {
   "cell_type": "markdown",
   "id": "b0b69064-7d55-4538-9ee6-7ad76b279601",
   "metadata": {},
   "source": [
    "# Fetching the MIMIC II dataset and encoding it custom"
   ]
  },
  {
   "cell_type": "code",
   "execution_count": 57,
   "id": "95a30585-8194-4dc6-986d-e27c21a124c3",
   "metadata": {},
   "outputs": [],
   "source": [
    "adata_2 = ep.data.mimic_2(encode=False)"
   ]
  },
  {
   "cell_type": "code",
   "execution_count": 58,
   "id": "19128e3a-6b84-4fd6-9ba9-f9470140305c",
   "metadata": {},
   "outputs": [],
   "source": [
    "adata_2 = ep.encode.encode(adata_2, encodings={\"label_encoding\": [\"service_unit\"], \"count_encoding\": [\"day_icu_intime\"]})"
   ]
  },
  {
   "cell_type": "code",
   "execution_count": 59,
   "id": "dbe812be-e627-4487-93f1-b6396f8636ba",
   "metadata": {},
   "outputs": [
    {
     "data": {
      "text/plain": [
       "AnnData object with n_obs × n_vars = 1776 × 46\n",
       "    obs: 'service_unit', 'day_icu_intime'\n",
       "    uns: 'categoricals_encoded_with_mode', 'original_values_categoricals', 'current_encodings'\n",
       "    layers: 'original'"
      ]
     },
     "execution_count": 59,
     "metadata": {},
     "output_type": "execute_result"
    }
   ],
   "source": [
    "adata_2"
   ]
  },
  {
   "cell_type": "code",
   "execution_count": 60,
   "id": "73d7bdd4-e932-452d-b11f-e41ad7d9a5f3",
   "metadata": {},
   "outputs": [
    {
     "data": {
      "text/html": [
       "<div>\n",
       "<style scoped>\n",
       "    .dataframe tbody tr th:only-of-type {\n",
       "        vertical-align: middle;\n",
       "    }\n",
       "\n",
       "    .dataframe tbody tr th {\n",
       "        vertical-align: top;\n",
       "    }\n",
       "\n",
       "    .dataframe thead th {\n",
       "        text-align: right;\n",
       "    }\n",
       "</style>\n",
       "<table border=\"1\" class=\"dataframe\">\n",
       "  <thead>\n",
       "    <tr style=\"text-align: right;\">\n",
       "      <th></th>\n",
       "      <th>service_unit</th>\n",
       "      <th>day_icu_intime</th>\n",
       "    </tr>\n",
       "  </thead>\n",
       "  <tbody>\n",
       "    <tr>\n",
       "      <th>0</th>\n",
       "      <td>SICU</td>\n",
       "      <td>Friday</td>\n",
       "    </tr>\n",
       "    <tr>\n",
       "      <th>1</th>\n",
       "      <td>MICU</td>\n",
       "      <td>Saturday</td>\n",
       "    </tr>\n",
       "    <tr>\n",
       "      <th>2</th>\n",
       "      <td>MICU</td>\n",
       "      <td>Friday</td>\n",
       "    </tr>\n",
       "    <tr>\n",
       "      <th>3</th>\n",
       "      <td>SICU</td>\n",
       "      <td>Saturday</td>\n",
       "    </tr>\n",
       "    <tr>\n",
       "      <th>4</th>\n",
       "      <td>SICU</td>\n",
       "      <td>Saturday</td>\n",
       "    </tr>\n",
       "    <tr>\n",
       "      <th>...</th>\n",
       "      <td>...</td>\n",
       "      <td>...</td>\n",
       "    </tr>\n",
       "    <tr>\n",
       "      <th>1771</th>\n",
       "      <td>MICU</td>\n",
       "      <td>Sunday</td>\n",
       "    </tr>\n",
       "    <tr>\n",
       "      <th>1772</th>\n",
       "      <td>SICU</td>\n",
       "      <td>Saturday</td>\n",
       "    </tr>\n",
       "    <tr>\n",
       "      <th>1773</th>\n",
       "      <td>MICU</td>\n",
       "      <td>Tuesday</td>\n",
       "    </tr>\n",
       "    <tr>\n",
       "      <th>1774</th>\n",
       "      <td>SICU</td>\n",
       "      <td>Wednesday</td>\n",
       "    </tr>\n",
       "    <tr>\n",
       "      <th>1775</th>\n",
       "      <td>MICU</td>\n",
       "      <td>Monday</td>\n",
       "    </tr>\n",
       "  </tbody>\n",
       "</table>\n",
       "<p>1776 rows × 2 columns</p>\n",
       "</div>"
      ],
      "text/plain": [
       "     service_unit day_icu_intime\n",
       "0            SICU      Friday   \n",
       "1            MICU      Saturday \n",
       "2            MICU      Friday   \n",
       "3            SICU      Saturday \n",
       "4            SICU      Saturday \n",
       "...           ...            ...\n",
       "1771         MICU      Sunday   \n",
       "1772         SICU      Saturday \n",
       "1773         MICU      Tuesday  \n",
       "1774         SICU      Wednesday\n",
       "1775         MICU      Monday   \n",
       "\n",
       "[1776 rows x 2 columns]"
      ]
     },
     "execution_count": 60,
     "metadata": {},
     "output_type": "execute_result"
    }
   ],
   "source": [
    "adata_2.obs"
   ]
  },
  {
   "cell_type": "code",
   "execution_count": 61,
   "id": "c1092483-e8b0-4072-baba-c5614203f9e2",
   "metadata": {},
   "outputs": [],
   "source": [
    "adata_2 = ep.encode.encode(adata_2, encodings={\"one_hot_encoding\": [\"service_unit\", \"day_icu_intime\"]})"
   ]
  },
  {
   "cell_type": "code",
   "execution_count": 62,
   "id": "29f0bda7-471c-4387-b259-7bb1535093a2",
   "metadata": {},
   "outputs": [
    {
     "data": {
      "text/plain": [
       "AnnData object with n_obs × n_vars = 1776 × 54\n",
       "    obs: 'service_unit', 'day_icu_intime'\n",
       "    uns: 'categoricals_encoded_with_mode', 'original_values_categoricals', 'current_encodings'\n",
       "    layers: 'original'"
      ]
     },
     "execution_count": 62,
     "metadata": {},
     "output_type": "execute_result"
    }
   ],
   "source": [
    "adata_2"
   ]
  },
  {
   "cell_type": "code",
   "execution_count": 63,
   "id": "5194ca19-be39-4a93-960d-6bef626645df",
   "metadata": {},
   "outputs": [
    {
     "name": "stderr",
     "output_type": "stream",
     "text": [
      "/home/zeth/miniconda3/envs/ehrapy/lib/python3.8/site-packages/anndata/_core/anndata.py:1220: FutureWarning: The `inplace` parameter in pandas.Categorical.reorder_categories is deprecated and will be removed in a future version. Removing unused categories will always return a new Categorical object.\n",
      "  c.reorder_categories(natsorted(c.categories), inplace=True)\n",
      "... storing 'service_unit' as categorical\n",
      "/home/zeth/miniconda3/envs/ehrapy/lib/python3.8/site-packages/anndata/_core/anndata.py:1220: FutureWarning: The `inplace` parameter in pandas.Categorical.reorder_categories is deprecated and will be removed in a future version. Removing unused categories will always return a new Categorical object.\n",
      "  c.reorder_categories(natsorted(c.categories), inplace=True)\n",
      "... storing 'day_icu_intime' as categorical\n"
     ]
    }
   ],
   "source": [
    "ep.io.write(\"mimic_2.h5ad\", adata_2)"
   ]
  },
  {
   "cell_type": "code",
   "execution_count": 64,
   "id": "7d20cf35-335c-4110-b316-57dc944da735",
   "metadata": {},
   "outputs": [],
   "source": [
    "adata_3 = ep.io.read(\"mimic_2.h5ad\")"
   ]
  },
  {
   "cell_type": "code",
   "execution_count": 65,
   "id": "0a29558b-80a5-481b-b414-2e3ebd439dc5",
   "metadata": {},
   "outputs": [
    {
     "data": {
      "text/plain": [
       "AnnData object with n_obs × n_vars = 1776 × 54\n",
       "    obs: 'service_unit', 'day_icu_intime'\n",
       "    uns: 'categoricals_encoded_with_mode', 'current_encodings', 'original_values_categoricals'\n",
       "    layers: 'original'"
      ]
     },
     "execution_count": 65,
     "metadata": {},
     "output_type": "execute_result"
    }
   ],
   "source": [
    "adata_3"
   ]
  },
  {
   "cell_type": "markdown",
   "id": "904c2e22-5ed4-46d3-9ae4-70fffe1163f8",
   "metadata": {},
   "source": [
    "# Apply Scanpy "
   ]
  },
  {
   "cell_type": "code",
   "execution_count": null,
   "id": "e3bdf6a1-e5cf-4654-9595-2af9d8b9dc63",
   "metadata": {},
   "outputs": [],
   "source": []
  }
 ],
 "metadata": {
  "kernelspec": {
   "display_name": "Python 3 (ipykernel)",
   "language": "python",
   "name": "python3"
  },
  "language_info": {
   "codemirror_mode": {
    "name": "ipython",
    "version": 3
   },
   "file_extension": ".py",
   "mimetype": "text/x-python",
   "name": "python",
   "nbconvert_exporter": "python",
   "pygments_lexer": "ipython3",
   "version": "3.8.11"
  }
 },
 "nbformat": 4,
 "nbformat_minor": 5
}
