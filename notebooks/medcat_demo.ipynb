{
 "cells": [
  {
   "cell_type": "code",
   "execution_count": 1,
   "metadata": {},
   "outputs": [
    {
     "data": {
      "text/html": [
       "<pre style=\"white-space:pre;overflow-x:auto;line-height:normal;font-family:Menlo,'DejaVu Sans Mono',consolas,'Courier New',monospace\"><span style=\"color: #800000; text-decoration-color: #800000; font-weight: bold\">Unable to contact PyPI to check for the latest ehrapy version. Do you have an internet </span>\n",
       "<span style=\"color: #800000; text-decoration-color: #800000; font-weight: bold\">connection?</span>\n",
       "</pre>\n"
      ],
      "text/plain": [
       "\u001b[1;31mUnable to contact PyPI to check for the latest ehrapy version. Do you have an internet \u001b[0m\n",
       "\u001b[1;31mconnection?\u001b[0m\n"
      ]
     },
     "metadata": {},
     "output_type": "display_data"
    },
    {
     "name": "stderr",
     "output_type": "stream",
     "text": [
      "/home/thelichking/anaconda3/envs/scanpy_tutorial/lib/python3.9/site-packages/medcat/cat.py:10: TqdmExperimentalWarning: Using `tqdm.autonotebook.tqdm` in notebook mode. Use `tqdm.tqdm` instead to force console mode (e.g. in jupyter console)\n",
      "  from tqdm.autonotebook import tqdm\n"
     ]
    },
    {
     "data": {
      "text/html": [
       "<pre style=\"white-space:pre;overflow-x:auto;line-height:normal;font-family:Menlo,'DejaVu Sans Mono',consolas,'Courier New',monospace\"><span style=\"color: #808000; text-decoration-color: #808000; font-weight: bold\">Model en_core_sci_sm is not installed. Refer to the ehrapy installation instructions if </span>\n",
       "<span style=\"color: #808000; text-decoration-color: #808000; font-weight: bold\">required.</span>\n",
       "</pre>\n"
      ],
      "text/plain": [
       "\u001b[1;33mModel en_core_sci_sm is not installed. Refer to the ehrapy installation instructions if \u001b[0m\n",
       "\u001b[1;33mrequired.\u001b[0m\n"
      ]
     },
     "metadata": {},
     "output_type": "display_data"
    },
    {
     "data": {
      "text/html": [
       "<pre style=\"white-space:pre;overflow-x:auto;line-height:normal;font-family:Menlo,'DejaVu Sans Mono',consolas,'Courier New',monospace\"><span style=\"color: #808000; text-decoration-color: #808000; font-weight: bold\">Model en_core_sci_md is not installed. Refer to the ehrapy installation instructions if </span>\n",
       "<span style=\"color: #808000; text-decoration-color: #808000; font-weight: bold\">required.</span>\n",
       "</pre>\n"
      ],
      "text/plain": [
       "\u001b[1;33mModel en_core_sci_md is not installed. Refer to the ehrapy installation instructions if \u001b[0m\n",
       "\u001b[1;33mrequired.\u001b[0m\n"
      ]
     },
     "metadata": {},
     "output_type": "display_data"
    }
   ],
   "source": [
    "import ehrapy.api as ep\n",
    "import pandas as pd"
   ]
  },
  {
   "cell_type": "code",
   "execution_count": 2,
   "metadata": {},
   "outputs": [],
   "source": [
    "ep.settings.n_jobs=8"
   ]
  },
  {
   "cell_type": "code",
   "execution_count": 3,
   "metadata": {},
   "outputs": [],
   "source": [
    "# !wget https://medcat.rosalind.kcl.ac.uk/media/vocab.dat -P ./medcat_data/\n",
    "# !wget https://medcat.rosalind.kcl.ac.uk/media/cdb-medmen-v1.dat -P ./medcat_data/\n",
    "# !wget https://raw.githubusercontent.com/CogStack/MedCAT/master/tutorial/data/pt_notes.csv -P ./medcat_data/"
   ]
  },
  {
   "cell_type": "code",
   "execution_count": 3,
   "metadata": {},
   "outputs": [],
   "source": [
    "medcat = ep.tl.MedCAT()\n",
    "\n",
    "vocabulary = medcat.load_vocabulary(\"../../medcat_data/vocab.dat\")\n",
    "concept_db = medcat.load_concept_db(\"../../medcat_data/cdb-medmen-v1.dat\")\n",
    "\n",
    "concept_db.config.ner['min_name_len'] = 2\n",
    "concept_db.config.ner['upper_case_limit_len'] = 3\n",
    "concept_db.config.general['spell_check'] = True\n",
    "concept_db.config.linking['train_count_threshold'] = 10\n",
    "concept_db.config.linking['similarity_threshold'] = 0.3\n",
    "concept_db.config.linking['train'] = True\n",
    "concept_db.config.linking['disamb_length_limit'] = 5\n",
    "concept_db.config.general['full_unlink'] = True\n",
    "\n",
    "medcat.update_cat(vocabulary=vocabulary, concept_db=concept_db)"
   ]
  },
  {
   "cell_type": "code",
   "execution_count": 4,
   "metadata": {},
   "outputs": [
    {
     "data": {
      "text/plain": [
       "(diagnosed, kidney failure)"
      ]
     },
     "execution_count": 4,
     "metadata": {},
     "output_type": "execute_result"
    }
   ],
   "source": [
    "text = \"He was diagnosed with kidney failure\"\n",
    "doc = medcat.cat(text)\n",
    "doc.ents"
   ]
  },
  {
   "cell_type": "code",
   "execution_count": 5,
   "metadata": {},
   "outputs": [
    {
     "data": {
      "text/plain": [
       "{'entities': {0: {'pretty_name': 'Diagnosis Study',\n",
       "   'cui': 'C1704656',\n",
       "   'tuis': ['T062'],\n",
       "   'types': ['Research Activity'],\n",
       "   'source_value': 'diagnosed',\n",
       "   'detected_name': 'diagnosed',\n",
       "   'acc': 0.22160544957937056,\n",
       "   'context_similarity': 0.22160544957937056,\n",
       "   'start': 7,\n",
       "   'end': 16,\n",
       "   'icd10': [],\n",
       "   'ontologies': [],\n",
       "   'snomed': [],\n",
       "   'id': 0,\n",
       "   'meta_anns': {}},\n",
       "  2: {'pretty_name': 'Kidney Failure',\n",
       "   'cui': 'C0035078',\n",
       "   'tuis': ['T047'],\n",
       "   'types': ['Disease or Syndrome'],\n",
       "   'source_value': 'kidney failure',\n",
       "   'detected_name': 'kidney~failure',\n",
       "   'acc': 1.0,\n",
       "   'context_similarity': 1.0,\n",
       "   'start': 22,\n",
       "   'end': 36,\n",
       "   'icd10': [],\n",
       "   'ontologies': [],\n",
       "   'snomed': [],\n",
       "   'id': 2,\n",
       "   'meta_anns': {}}},\n",
       " 'tokens': []}"
      ]
     },
     "execution_count": 5,
     "metadata": {},
     "output_type": "execute_result"
    }
   ],
   "source": [
    "medcat.cat.get_entities(\"He was diagnosed with kidney failure\", only_cui=False)"
   ]
  },
  {
   "cell_type": "code",
   "execution_count": 32,
   "metadata": {},
   "outputs": [],
   "source": [
    "data = pd.read_csv(\"../../medcat_data/pt_notes.csv\")"
   ]
  },
  {
   "cell_type": "code",
   "execution_count": 8,
   "metadata": {},
   "outputs": [
    {
     "data": {
      "text/html": [
       "<div>\n",
       "<style scoped>\n",
       "    .dataframe tbody tr th:only-of-type {\n",
       "        vertical-align: middle;\n",
       "    }\n",
       "\n",
       "    .dataframe tbody tr th {\n",
       "        vertical-align: top;\n",
       "    }\n",
       "\n",
       "    .dataframe thead th {\n",
       "        text-align: right;\n",
       "    }\n",
       "</style>\n",
       "<table border=\"1\" class=\"dataframe\">\n",
       "  <thead>\n",
       "    <tr style=\"text-align: right;\">\n",
       "      <th></th>\n",
       "      <th>Unnamed: 0_x</th>\n",
       "      <th>subject_id</th>\n",
       "      <th>chartdate</th>\n",
       "      <th>category</th>\n",
       "      <th>text</th>\n",
       "      <th>create_year</th>\n",
       "      <th>Unnamed: 0_y</th>\n",
       "      <th>gender</th>\n",
       "      <th>dob</th>\n",
       "      <th>dob_year</th>\n",
       "      <th>age_year</th>\n",
       "    </tr>\n",
       "  </thead>\n",
       "  <tbody>\n",
       "    <tr>\n",
       "      <th>0</th>\n",
       "      <td>6</td>\n",
       "      <td>1</td>\n",
       "      <td>2079-01-01</td>\n",
       "      <td>General Medicine</td>\n",
       "      <td>HISTORY OF PRESENT ILLNESS:, The patient is a ...</td>\n",
       "      <td>2079</td>\n",
       "      <td>1</td>\n",
       "      <td>F</td>\n",
       "      <td>2018-01-01</td>\n",
       "      <td>2018</td>\n",
       "      <td>61</td>\n",
       "    </tr>\n",
       "    <tr>\n",
       "      <th>1</th>\n",
       "      <td>7</td>\n",
       "      <td>1</td>\n",
       "      <td>2079-01-01</td>\n",
       "      <td>Rheumatology</td>\n",
       "      <td>HISTORY OF PRESENT ILLNESS: , A 71-year-old fe...</td>\n",
       "      <td>2079</td>\n",
       "      <td>1</td>\n",
       "      <td>F</td>\n",
       "      <td>2018-01-01</td>\n",
       "      <td>2018</td>\n",
       "      <td>61</td>\n",
       "    </tr>\n",
       "    <tr>\n",
       "      <th>2</th>\n",
       "      <td>8</td>\n",
       "      <td>1</td>\n",
       "      <td>2079-01-01</td>\n",
       "      <td>Consult - History and Phy.</td>\n",
       "      <td>HISTORY OF PRESENT ILLNESS:, The patient is a ...</td>\n",
       "      <td>2079</td>\n",
       "      <td>1</td>\n",
       "      <td>F</td>\n",
       "      <td>2018-01-01</td>\n",
       "      <td>2018</td>\n",
       "      <td>61</td>\n",
       "    </tr>\n",
       "    <tr>\n",
       "      <th>3</th>\n",
       "      <td>9</td>\n",
       "      <td>2</td>\n",
       "      <td>2037-01-01</td>\n",
       "      <td>Consult - History and Phy.</td>\n",
       "      <td>CHIEF COMPLAINT:,1.  Infection.,2.  Pelvic pai...</td>\n",
       "      <td>2037</td>\n",
       "      <td>2</td>\n",
       "      <td>F</td>\n",
       "      <td>2018-01-01</td>\n",
       "      <td>2018</td>\n",
       "      <td>19</td>\n",
       "    </tr>\n",
       "    <tr>\n",
       "      <th>4</th>\n",
       "      <td>10</td>\n",
       "      <td>2</td>\n",
       "      <td>2037-01-01</td>\n",
       "      <td>Dermatology</td>\n",
       "      <td>SUBJECTIVE:,  This is a 29-year-old Vietnamese...</td>\n",
       "      <td>2037</td>\n",
       "      <td>2</td>\n",
       "      <td>F</td>\n",
       "      <td>2018-01-01</td>\n",
       "      <td>2018</td>\n",
       "      <td>19</td>\n",
       "    </tr>\n",
       "  </tbody>\n",
       "</table>\n",
       "</div>"
      ],
      "text/plain": [
       "   Unnamed: 0_x  subject_id   chartdate                     category  \\\n",
       "0             6           1  2079-01-01             General Medicine   \n",
       "1             7           1  2079-01-01                 Rheumatology   \n",
       "2             8           1  2079-01-01   Consult - History and Phy.   \n",
       "3             9           2  2037-01-01   Consult - History and Phy.   \n",
       "4            10           2  2037-01-01                  Dermatology   \n",
       "\n",
       "                                                text  create_year  \\\n",
       "0  HISTORY OF PRESENT ILLNESS:, The patient is a ...         2079   \n",
       "1  HISTORY OF PRESENT ILLNESS: , A 71-year-old fe...         2079   \n",
       "2  HISTORY OF PRESENT ILLNESS:, The patient is a ...         2079   \n",
       "3  CHIEF COMPLAINT:,1.  Infection.,2.  Pelvic pai...         2037   \n",
       "4  SUBJECTIVE:,  This is a 29-year-old Vietnamese...         2037   \n",
       "\n",
       "   Unnamed: 0_y gender         dob  dob_year  age_year  \n",
       "0             1      F  2018-01-01      2018        61  \n",
       "1             1      F  2018-01-01      2018        61  \n",
       "2             1      F  2018-01-01      2018        61  \n",
       "3             2      F  2018-01-01      2018        19  \n",
       "4             2      F  2018-01-01      2018        19  "
      ]
     },
     "execution_count": 8,
     "metadata": {},
     "output_type": "execute_result"
    }
   ],
   "source": [
    "data.head()"
   ]
  },
  {
   "cell_type": "code",
   "execution_count": 9,
   "metadata": {
    "scrolled": true
   },
   "outputs": [
    {
     "name": "stdout",
     "output_type": "stream",
     "text": [
      "HISTORY OF PRESENT ILLNESS:, The patient is a 71-year-old Caucasian female with a history of diabetes, osteoarthritis, atrial fibrillation, hypertension, asthma, obstructive sleep apnea on CPAP, diabetic foot ulcer, anemia and left lower extremity cellulitis. She was brought in by the EMS service to Erlanger emergency department with pulseless electrical activity. Her husband states that he was at home with his wife, when she presented to him complaining of fever and chills. She became acutely unresponsive. She was noted to have worsening of her breathing. She took several of her MDIs and then was placed on her CPAP. He went to notify EMS and when he returned, she was found to not be breathing. He stated that she was noted to have no breathing in excess of 10 minutes. He states that the EMS system arrived at the home and she was found not breathing. The patient was intubated at the scene and upon arrival to Erlanger Medical Center, she was found to have pupils fixed and dilated. She was seen by me in the emergency department and was on Neo-Synephrine, dopamine with a blood pressure of 97/22 with a rapid heart rate and again, in an unresponsive state.,REVIEW OF SYSTEMS:, Review of systems was not obtainable.,PAST MEDICAL HISTORY:, Diabetes, osteoarthritis, hypertension, asthma, atrial fibrillation, diabetic foot ulcer and anemia.,PAST SURGICAL HISTORY:, Noncontributory to above.,FAMILY HISTORY:, Mother with history of coronary artery disease.,SOCIAL HISTORY:, The patient is married. She uses no ethanol, no tobacco and no illicits. She has a very support family unit.,MEDICATIONS:, Augmentin; Detrol LA; lisinopril.,IMMUNIZATIONS:, Immunizations were up to date for influenza, negative for Pneumovax.,ALLERGIES:, PENICILLIN.,LABORATORY AT PRESENTATION:, White blood cell count 11, hemoglobin 10.5, hematocrit 32.2, platelets 175,000. Sodium 148, potassium 5.2, BUN 30, creatinine 2.2 and glucose 216. PT was 22.4.,RADIOLOGIC DATA:, Chest x-ray revealed a diffuse pulmonary edema.,PHYSICAL EXAMINATION:,VITAL SIGNS: Blood pressure 97/52, pulse of 79, respirations 16, O2 sat 100%.,HEENT: The patient's pupils were again, fixed and dilated and intubated on the monitor.,CHEST: Poor air movement bilateral with bilateral rales.,CARDIOVASCULAR: Regular rate and rhythm.,ABDOMEN: The abdomen was obese, nondistended and nontender.,EXTREMITIES: Left diabetic foot had oozing pus drainage from the foot.,GU: Foley catheter was in place.,IMPRESSION AND PLAN:,1. Acute cardiac arrest with pulseless electrical activity with hypotensive shock and respiratory failure: Will continue ventilator support. Will rule out pulmonary embolus, rule out myocardial infarction. Continue pressors. The patient is currently on dopamine, Neo-Synephrine and Levophed.,2. Acute respiratory distress syndrome: Will continue ventilatory support.,3. Questionable sepsis: Will obtain blood cultures, intravenous vancomycin and Rocephin given.,4. Hypotensive shock: Will continue pressors. Will check random cortisol. Hydrocortisone was added.,Further inpatient management for this patient will be provided by Dr. R. The patient's status was discussed with her daughter and her husband. The husband states that his wife has been very ill in the past with multiple admissions, but he had never seen her as severely ill as with this event. He states that she completely was not breathing at all and he is aware of the severity of her illness and the gravity of her current prognosis. Will obtain the assistance with cardiology with this admission and will continue pressors and supportive therapy. The family will make an assessment and final decision concerning her long-term management after a 24 hour period.\n"
     ]
    }
   ],
   "source": [
    "with pd.option_context('display.max_rows', None, 'display.max_columns', None):\n",
    "    print(data[\"text\"][0])"
   ]
  },
  {
   "cell_type": "code",
   "execution_count": 6,
   "metadata": {},
   "outputs": [],
   "source": [
    "adata = ep.io.read(\"../../medcat_data/pt_notes.csv\", columns_obs_only=[\"subject_id\", \"chartdate\", \"text\", \"dob_year\"], suppress_warnings=True)"
   ]
  },
  {
   "cell_type": "code",
   "execution_count": 7,
   "metadata": {},
   "outputs": [
    {
     "name": "stderr",
     "output_type": "stream",
     "text": [
      "DONE: 0\n",
      "DONE: 100\n",
      "DONE: 200\n",
      "DONE: 300\n",
      "DONE: 400\n",
      "DONE: 500\n",
      "DONE: 600\n",
      "DONE: 700\n",
      "DONE: 800\n",
      "DONE: 900\n",
      "DONE: 1000\n"
     ]
    }
   ],
   "source": [
    "medcat.cat.train(adata.obs.text.values, progress_print=100)"
   ]
  },
  {
   "cell_type": "code",
   "execution_count": 8,
   "metadata": {},
   "outputs": [
    {
     "name": "stderr",
     "output_type": "stream",
     "text": [
      "Number of concepts: 34,724\n",
      "Number of names:    92,740\n",
      "Number of concepts that received training: 34,724\n",
      "Number of seen training examples in total: 4,097,899\n",
      "Average training examples per concept:     118.0\n"
     ]
    }
   ],
   "source": [
    "medcat.cat.cdb.print_stats()"
   ]
  },
  {
   "cell_type": "markdown",
   "metadata": {},
   "source": [
    "|T047|Disease or Syndrome    \n",
    "|T048|Mental or Behavioral Dysfunction"
   ]
  },
  {
   "cell_type": "code",
   "execution_count": 9,
   "metadata": {},
   "outputs": [
    {
     "data": {
      "text/html": [
       "<pre style=\"white-space:pre;overflow-x:auto;line-height:normal;font-family:Menlo,'DejaVu Sans Mono',consolas,'Courier New',monospace\"><span style=\"color: #000080; text-decoration-color: #000080; font-weight: bold\">The size of the concept database is now: </span><span style=\"color: #000080; text-decoration-color: #000080; font-weight: bold\">1763</span>\n",
       "</pre>\n"
      ],
      "text/plain": [
       "\u001b[1;34mThe size of the concept database is now: \u001b[0m\u001b[1;34m1763\u001b[0m\n"
      ]
     },
     "metadata": {},
     "output_type": "display_data"
    }
   ],
   "source": [
    "filtered_cdb = medcat.filter_tui(medcat.concept_db, ['T047', 'T048'])"
   ]
  },
  {
   "cell_type": "code",
   "execution_count": 10,
   "metadata": {},
   "outputs": [],
   "source": [
    "medcat.update_cat(vocabulary=vocabulary, concept_db=filtered_cdb)"
   ]
  },
  {
   "cell_type": "markdown",
   "metadata": {},
   "source": [
    "ALSO, THE ONLY_CUI MUST BE TRUE ATM BECAUSE set(result[\"entities\"].values()) CAN T BE HASHED. (THE RESULT IS A DICTIONARY).\n",
    "GOAL: ALLOW FOR ONLY_CUI=FALSE. SHOULD BE RATHER EASY FIXES, JUST NEED TO GENERALIZE IT A LITTLE BIT MORE."
   ]
  },
  {
   "cell_type": "code",
   "execution_count": 11,
   "metadata": {},
   "outputs": [
    {
     "data": {
      "application/vnd.jupyter.widget-view+json": {
       "model_id": "c1e6979c84b843a285b4aee728c9570e",
       "version_major": 2,
       "version_minor": 0
      },
      "text/plain": [
       "Output()"
      ]
     },
     "metadata": {},
     "output_type": "display_data"
    },
    {
     "name": "stderr",
     "output_type": "stream",
     "text": [
      "Annotated until now: 0 docs; Current BS: 2 docs\n",
      "Annotated until now: 0 docs; Current BS: 2 docs\n",
      "Annotated until now: 0 docs; Current BS: 2 docs\n",
      "Annotated until now: 0 docs; Current BS: 2 docs\n",
      "Annotated until now: 0 docs; Current BS: 2 docs\n",
      "Annotated until now: 0 docs; Current BS: 2 docs\n",
      "Annotated until now: 0 docs; Current BS: 2 docs\n",
      "Annotated until now: 0 docs; Current BS: 2 docs\n",
      "Annotated until now: 0 docs; Current BS: 2 docs\n",
      "Annotated until now: 0 docs; Current BS: 2 docs\n",
      "Annotated until now: 0 docs; Current BS: 2 docs\n",
      "Annotated until now: 0 docs; Current BS: 2 docs\n",
      "Annotated until now: 0 docs; Current BS: 2 docs\n",
      "Annotated until now: 0 docs; Current BS: 2 docs\n",
      "Annotated until now: 0 docs; Current BS: 2 docs\n",
      "Annotated until now: 0 docs; Current BS: 2 docs\n",
      "Annotated until now: 0 docs; Current BS: 2 docs\n",
      "Annotated until now: 0 docs; Current BS: 2 docs\n",
      "Annotated until now: 0 docs; Current BS: 2 docs\n",
      "Annotated until now: 0 docs; Current BS: 2 docs\n",
      "Annotated until now: 0 docs; Current BS: 2 docs\n",
      "Annotated until now: 0 docs; Current BS: 2 docs\n",
      "Annotated until now: 0 docs; Current BS: 2 docs\n",
      "Annotated until now: 0 docs; Current BS: 2 docs\n",
      "Annotated until now: 0 docs; Current BS: 2 docs\n",
      "Annotated until now: 0 docs; Current BS: 2 docs\n",
      "Annotated until now: 0 docs; Current BS: 2 docs\n",
      "Annotated until now: 0 docs; Current BS: 2 docs\n",
      "Annotated until now: 0 docs; Current BS: 2 docs\n",
      "Annotated until now: 0 docs; Current BS: 2 docs\n",
      "Annotated until now: 0 docs; Current BS: 2 docs\n",
      "Annotated until now: 0 docs; Current BS: 2 docs\n",
      "Annotated until now: 0 docs; Current BS: 2 docs\n",
      "Annotated until now: 0 docs; Current BS: 2 docs\n",
      "Annotated until now: 0 docs; Current BS: 2 docs\n",
      "Annotated until now: 0 docs; Current BS: 2 docs\n",
      "Annotated until now: 0 docs; Current BS: 2 docs\n",
      "Annotated until now: 0 docs; Current BS: 2 docs\n",
      "Annotated until now: 0 docs; Current BS: 2 docs\n",
      "Annotated until now: 0 docs; Current BS: 2 docs\n",
      "Annotated until now: 0 docs; Current BS: 2 docs\n",
      "Annotated until now: 0 docs; Current BS: 2 docs\n",
      "Annotated until now: 0 docs; Current BS: 2 docs\n",
      "Annotated until now: 0 docs; Current BS: 2 docs\n",
      "Annotated until now: 0 docs; Current BS: 2 docs\n",
      "Annotated until now: 0 docs; Current BS: 2 docs\n",
      "Annotated until now: 0 docs; Current BS: 2 docs\n",
      "Annotated until now: 0 docs; Current BS: 2 docs\n",
      "Annotated until now: 0 docs; Current BS: 2 docs\n",
      "Annotated until now: 0 docs; Current BS: 2 docs\n",
      "Annotated until now: 0 docs; Current BS: 2 docs\n",
      "Annotated until now: 0 docs; Current BS: 2 docs\n",
      "Annotated until now: 0 docs; Current BS: 2 docs\n",
      "Annotated until now: 0 docs; Current BS: 2 docs\n",
      "Annotated until now: 0 docs; Current BS: 2 docs\n",
      "Annotated until now: 0 docs; Current BS: 2 docs\n",
      "Annotated until now: 0 docs; Current BS: 2 docs\n",
      "Annotated until now: 0 docs; Current BS: 2 docs\n",
      "Annotated until now: 0 docs; Current BS: 2 docs\n",
      "Annotated until now: 0 docs; Current BS: 2 docs\n",
      "Annotated until now: 0 docs; Current BS: 2 docs\n",
      "Annotated until now: 0 docs; Current BS: 2 docs\n",
      "Annotated until now: 0 docs; Current BS: 2 docs\n",
      "Annotated until now: 0 docs; Current BS: 2 docs\n",
      "Annotated until now: 0 docs; Current BS: 2 docs\n",
      "Annotated until now: 0 docs; Current BS: 2 docs\n",
      "Annotated until now: 0 docs; Current BS: 2 docs\n",
      "Annotated until now: 0 docs; Current BS: 2 docs\n",
      "Annotated until now: 0 docs; Current BS: 2 docs\n",
      "Annotated until now: 0 docs; Current BS: 2 docs\n",
      "Annotated until now: 0 docs; Current BS: 2 docs\n",
      "Annotated until now: 0 docs; Current BS: 2 docs\n",
      "Annotated until now: 0 docs; Current BS: 2 docs\n",
      "Annotated until now: 0 docs; Current BS: 2 docs\n",
      "Annotated until now: 0 docs; Current BS: 2 docs\n",
      "Annotated until now: 0 docs; Current BS: 2 docs\n",
      "Annotated until now: 0 docs; Current BS: 2 docs\n",
      "Annotated until now: 0 docs; Current BS: 2 docs\n",
      "Annotated until now: 0 docs; Current BS: 2 docs\n",
      "Annotated until now: 0 docs; Current BS: 2 docs\n",
      "Annotated until now: 0 docs; Current BS: 2 docs\n",
      "Annotated until now: 0 docs; Current BS: 2 docs\n",
      "Annotated until now: 0 docs; Current BS: 2 docs\n",
      "Annotated until now: 0 docs; Current BS: 2 docs\n",
      "Annotated until now: 0 docs; Current BS: 2 docs\n",
      "Annotated until now: 0 docs; Current BS: 2 docs\n",
      "Annotated until now: 0 docs; Current BS: 2 docs\n",
      "Annotated until now: 0 docs; Current BS: 2 docs\n",
      "Annotated until now: 0 docs; Current BS: 2 docs\n",
      "Annotated until now: 0 docs; Current BS: 2 docs\n",
      "Annotated until now: 0 docs; Current BS: 2 docs\n",
      "Annotated until now: 0 docs; Current BS: 2 docs\n",
      "Annotated until now: 0 docs; Current BS: 2 docs\n",
      "Annotated until now: 0 docs; Current BS: 2 docs\n",
      "Annotated until now: 0 docs; Current BS: 2 docs\n",
      "Annotated until now: 0 docs; Current BS: 2 docs\n",
      "Annotated until now: 0 docs; Current BS: 2 docs\n",
      "Annotated until now: 0 docs; Current BS: 2 docs\n",
      "Annotated until now: 0 docs; Current BS: 2 docs\n",
      "Annotated until now: 0 docs; Current BS: 2 docs\n",
      "Annotated until now: 0 docs; Current BS: 2 docs\n",
      "Annotated until now: 0 docs; Current BS: 2 docs\n",
      "Annotated until now: 0 docs; Current BS: 2 docs\n",
      "Annotated until now: 0 docs; Current BS: 2 docs\n",
      "Annotated until now: 0 docs; Current BS: 2 docs\n",
      "Annotated until now: 0 docs; Current BS: 2 docs\n",
      "Annotated until now: 0 docs; Current BS: 2 docs\n",
      "Annotated until now: 0 docs; Current BS: 2 docs\n",
      "Annotated until now: 0 docs; Current BS: 2 docs\n",
      "Annotated until now: 0 docs; Current BS: 2 docs\n",
      "Annotated until now: 0 docs; Current BS: 2 docs\n",
      "Annotated until now: 0 docs; Current BS: 2 docs\n",
      "Annotated until now: 0 docs; Current BS: 2 docs\n",
      "Annotated until now: 0 docs; Current BS: 2 docs\n",
      "Annotated until now: 0 docs; Current BS: 2 docs\n",
      "Annotated until now: 0 docs; Current BS: 2 docs\n",
      "Annotated until now: 0 docs; Current BS: 2 docs\n",
      "Annotated until now: 0 docs; Current BS: 2 docs\n",
      "Annotated until now: 0 docs; Current BS: 2 docs\n",
      "Annotated until now: 0 docs; Current BS: 2 docs\n",
      "Annotated until now: 0 docs; Current BS: 2 docs\n",
      "Annotated until now: 0 docs; Current BS: 2 docs\n",
      "Annotated until now: 0 docs; Current BS: 2 docs\n",
      "Annotated until now: 0 docs; Current BS: 2 docs\n",
      "Annotated until now: 0 docs; Current BS: 2 docs\n",
      "Annotated until now: 0 docs; Current BS: 2 docs\n",
      "Annotated until now: 0 docs; Current BS: 2 docs\n",
      "Annotated until now: 0 docs; Current BS: 2 docs\n",
      "Annotated until now: 0 docs; Current BS: 2 docs\n",
      "Annotated until now: 0 docs; Current BS: 2 docs\n",
      "Annotated until now: 0 docs; Current BS: 2 docs\n",
      "Annotated until now: 0 docs; Current BS: 2 docs\n",
      "Annotated until now: 0 docs; Current BS: 2 docs\n",
      "Annotated until now: 0 docs; Current BS: 2 docs\n",
      "Annotated until now: 0 docs; Current BS: 2 docs\n",
      "Annotated until now: 0 docs; Current BS: 2 docs\n",
      "Annotated until now: 0 docs; Current BS: 2 docs\n",
      "Annotated until now: 0 docs; Current BS: 2 docs\n",
      "Annotated until now: 0 docs; Current BS: 2 docs\n",
      "Annotated until now: 0 docs; Current BS: 2 docs\n",
      "Annotated until now: 0 docs; Current BS: 2 docs\n",
      "Annotated until now: 0 docs; Current BS: 2 docs\n",
      "Annotated until now: 0 docs; Current BS: 2 docs\n",
      "Annotated until now: 0 docs; Current BS: 2 docs\n",
      "Annotated until now: 0 docs; Current BS: 2 docs\n",
      "Annotated until now: 0 docs; Current BS: 2 docs\n",
      "Annotated until now: 0 docs; Current BS: 2 docs\n",
      "Annotated until now: 0 docs; Current BS: 2 docs\n",
      "Annotated until now: 0 docs; Current BS: 2 docs\n",
      "Annotated until now: 0 docs; Current BS: 2 docs\n",
      "Annotated until now: 0 docs; Current BS: 2 docs\n",
      "Annotated until now: 0 docs; Current BS: 2 docs\n",
      "Annotated until now: 0 docs; Current BS: 2 docs\n",
      "Annotated until now: 0 docs; Current BS: 2 docs\n",
      "Annotated until now: 0 docs; Current BS: 2 docs\n",
      "Annotated until now: 0 docs; Current BS: 2 docs\n",
      "Annotated until now: 0 docs; Current BS: 2 docs\n",
      "Annotated until now: 0 docs; Current BS: 2 docs\n",
      "Annotated until now: 0 docs; Current BS: 2 docs\n",
      "Annotated until now: 0 docs; Current BS: 2 docs\n",
      "Annotated until now: 0 docs; Current BS: 2 docs\n",
      "Annotated until now: 0 docs; Current BS: 2 docs\n",
      "Annotated until now: 0 docs; Current BS: 2 docs\n",
      "Annotated until now: 0 docs; Current BS: 2 docs\n",
      "Annotated until now: 0 docs; Current BS: 2 docs\n",
      "Annotated until now: 0 docs; Current BS: 2 docs\n",
      "Annotated until now: 0 docs; Current BS: 2 docs\n",
      "Annotated until now: 0 docs; Current BS: 2 docs\n",
      "Annotated until now: 0 docs; Current BS: 2 docs\n",
      "Annotated until now: 0 docs; Current BS: 2 docs\n",
      "Annotated until now: 0 docs; Current BS: 2 docs\n"
     ]
    },
    {
     "name": "stderr",
     "output_type": "stream",
     "text": [
      "Annotated until now: 0 docs; Current BS: 2 docs\n",
      "Annotated until now: 0 docs; Current BS: 2 docs\n",
      "Annotated until now: 0 docs; Current BS: 2 docs\n",
      "Annotated until now: 0 docs; Current BS: 2 docs\n",
      "Annotated until now: 0 docs; Current BS: 2 docs\n",
      "Annotated until now: 0 docs; Current BS: 2 docs\n",
      "Annotated until now: 0 docs; Current BS: 2 docs\n",
      "Annotated until now: 0 docs; Current BS: 2 docs\n",
      "Annotated until now: 0 docs; Current BS: 2 docs\n",
      "Annotated until now: 0 docs; Current BS: 2 docs\n",
      "Annotated until now: 0 docs; Current BS: 2 docs\n",
      "Annotated until now: 0 docs; Current BS: 2 docs\n",
      "Annotated until now: 0 docs; Current BS: 2 docs\n",
      "Annotated until now: 0 docs; Current BS: 2 docs\n",
      "Annotated until now: 0 docs; Current BS: 2 docs\n",
      "Annotated until now: 0 docs; Current BS: 2 docs\n",
      "Annotated until now: 0 docs; Current BS: 2 docs\n",
      "Annotated until now: 0 docs; Current BS: 2 docs\n",
      "Annotated until now: 0 docs; Current BS: 2 docs\n",
      "Annotated until now: 0 docs; Current BS: 2 docs\n",
      "Annotated until now: 0 docs; Current BS: 2 docs\n",
      "Annotated until now: 0 docs; Current BS: 2 docs\n",
      "Annotated until now: 0 docs; Current BS: 2 docs\n",
      "Annotated until now: 0 docs; Current BS: 2 docs\n",
      "Annotated until now: 0 docs; Current BS: 2 docs\n",
      "Annotated until now: 0 docs; Current BS: 2 docs\n",
      "Annotated until now: 0 docs; Current BS: 2 docs\n",
      "Annotated until now: 0 docs; Current BS: 2 docs\n",
      "Annotated until now: 0 docs; Current BS: 2 docs\n",
      "Annotated until now: 0 docs; Current BS: 2 docs\n",
      "Annotated until now: 0 docs; Current BS: 2 docs\n",
      "Annotated until now: 0 docs; Current BS: 2 docs\n",
      "Annotated until now: 0 docs; Current BS: 2 docs\n",
      "Annotated until now: 0 docs; Current BS: 2 docs\n",
      "Annotated until now: 0 docs; Current BS: 2 docs\n",
      "Annotated until now: 0 docs; Current BS: 2 docs\n",
      "Annotated until now: 0 docs; Current BS: 2 docs\n",
      "Annotated until now: 0 docs; Current BS: 2 docs\n",
      "Annotated until now: 0 docs; Current BS: 2 docs\n",
      "Annotated until now: 0 docs; Current BS: 2 docs\n",
      "Annotated until now: 0 docs; Current BS: 2 docs\n",
      "Annotated until now: 0 docs; Current BS: 2 docs\n",
      "Annotated until now: 0 docs; Current BS: 2 docs\n",
      "Annotated until now: 0 docs; Current BS: 2 docs\n",
      "Annotated until now: 0 docs; Current BS: 2 docs\n",
      "Annotated until now: 0 docs; Current BS: 2 docs\n",
      "Annotated until now: 0 docs; Current BS: 2 docs\n",
      "Annotated until now: 0 docs; Current BS: 2 docs\n",
      "Annotated until now: 0 docs; Current BS: 2 docs\n",
      "Annotated until now: 0 docs; Current BS: 2 docs\n",
      "Annotated until now: 0 docs; Current BS: 2 docs\n",
      "Annotated until now: 0 docs; Current BS: 2 docs\n",
      "Annotated until now: 0 docs; Current BS: 2 docs\n",
      "Annotated until now: 0 docs; Current BS: 2 docs\n",
      "Annotated until now: 0 docs; Current BS: 2 docs\n",
      "Annotated until now: 0 docs; Current BS: 2 docs\n",
      "Annotated until now: 0 docs; Current BS: 2 docs\n",
      "Annotated until now: 0 docs; Current BS: 2 docs\n",
      "Annotated until now: 0 docs; Current BS: 2 docs\n",
      "Annotated until now: 0 docs; Current BS: 2 docs\n",
      "Annotated until now: 0 docs; Current BS: 2 docs\n",
      "Annotated until now: 0 docs; Current BS: 2 docs\n",
      "Annotated until now: 0 docs; Current BS: 2 docs\n",
      "Annotated until now: 0 docs; Current BS: 2 docs\n",
      "Annotated until now: 0 docs; Current BS: 2 docs\n",
      "Annotated until now: 0 docs; Current BS: 2 docs\n",
      "Annotated until now: 0 docs; Current BS: 2 docs\n",
      "Annotated until now: 0 docs; Current BS: 2 docs\n",
      "Annotated until now: 0 docs; Current BS: 2 docs\n",
      "Annotated until now: 0 docs; Current BS: 2 docs\n",
      "Annotated until now: 0 docs; Current BS: 2 docs\n",
      "Annotated until now: 0 docs; Current BS: 2 docs\n",
      "Annotated until now: 0 docs; Current BS: 2 docs\n",
      "Annotated until now: 0 docs; Current BS: 2 docs\n",
      "Annotated until now: 0 docs; Current BS: 2 docs\n",
      "Annotated until now: 0 docs; Current BS: 2 docs\n",
      "Annotated until now: 0 docs; Current BS: 2 docs\n",
      "Annotated until now: 0 docs; Current BS: 2 docs\n",
      "Annotated until now: 0 docs; Current BS: 2 docs\n",
      "Annotated until now: 0 docs; Current BS: 2 docs\n",
      "Annotated until now: 0 docs; Current BS: 2 docs\n",
      "Annotated until now: 0 docs; Current BS: 2 docs\n",
      "Annotated until now: 0 docs; Current BS: 2 docs\n",
      "Annotated until now: 0 docs; Current BS: 2 docs\n",
      "Annotated until now: 0 docs; Current BS: 2 docs\n",
      "Annotated until now: 0 docs; Current BS: 2 docs\n",
      "Annotated until now: 0 docs; Current BS: 2 docs\n",
      "Annotated until now: 0 docs; Current BS: 2 docs\n",
      "Annotated until now: 0 docs; Current BS: 2 docs\n",
      "Annotated until now: 0 docs; Current BS: 2 docs\n",
      "Annotated until now: 0 docs; Current BS: 2 docs\n",
      "Annotated until now: 0 docs; Current BS: 2 docs\n",
      "Annotated until now: 0 docs; Current BS: 2 docs\n",
      "Annotated until now: 0 docs; Current BS: 2 docs\n",
      "Annotated until now: 0 docs; Current BS: 2 docs\n",
      "Annotated until now: 0 docs; Current BS: 2 docs\n",
      "Annotated until now: 0 docs; Current BS: 2 docs\n",
      "Annotated until now: 0 docs; Current BS: 2 docs\n",
      "Annotated until now: 0 docs; Current BS: 2 docs\n",
      "Annotated until now: 0 docs; Current BS: 2 docs\n",
      "Annotated until now: 0 docs; Current BS: 2 docs\n",
      "Annotated until now: 0 docs; Current BS: 2 docs\n",
      "Annotated until now: 0 docs; Current BS: 2 docs\n",
      "Annotated until now: 0 docs; Current BS: 2 docs\n",
      "Annotated until now: 0 docs; Current BS: 2 docs\n",
      "Annotated until now: 0 docs; Current BS: 2 docs\n",
      "Annotated until now: 0 docs; Current BS: 2 docs\n",
      "Annotated until now: 0 docs; Current BS: 2 docs\n",
      "Annotated until now: 0 docs; Current BS: 2 docs\n",
      "Annotated until now: 0 docs; Current BS: 2 docs\n",
      "Annotated until now: 0 docs; Current BS: 2 docs\n",
      "Annotated until now: 0 docs; Current BS: 2 docs\n",
      "Annotated until now: 0 docs; Current BS: 2 docs\n",
      "Annotated until now: 0 docs; Current BS: 2 docs\n",
      "Annotated until now: 0 docs; Current BS: 2 docs\n",
      "Annotated until now: 0 docs; Current BS: 2 docs\n",
      "Annotated until now: 0 docs; Current BS: 2 docs\n",
      "Annotated until now: 0 docs; Current BS: 2 docs\n",
      "Annotated until now: 0 docs; Current BS: 2 docs\n",
      "Annotated until now: 0 docs; Current BS: 2 docs\n",
      "Annotated until now: 0 docs; Current BS: 2 docs\n",
      "Annotated until now: 0 docs; Current BS: 2 docs\n",
      "Annotated until now: 0 docs; Current BS: 2 docs\n",
      "Annotated until now: 0 docs; Current BS: 2 docs\n",
      "Annotated until now: 0 docs; Current BS: 2 docs\n",
      "Annotated until now: 0 docs; Current BS: 2 docs\n",
      "Annotated until now: 0 docs; Current BS: 2 docs\n",
      "Annotated until now: 0 docs; Current BS: 2 docs\n",
      "Annotated until now: 0 docs; Current BS: 2 docs\n",
      "Annotated until now: 0 docs; Current BS: 2 docs\n",
      "Annotated until now: 0 docs; Current BS: 2 docs\n",
      "Annotated until now: 0 docs; Current BS: 2 docs\n",
      "Annotated until now: 0 docs; Current BS: 2 docs\n",
      "Annotated until now: 0 docs; Current BS: 2 docs\n",
      "Annotated until now: 0 docs; Current BS: 2 docs\n",
      "Annotated until now: 0 docs; Current BS: 2 docs\n",
      "Annotated until now: 0 docs; Current BS: 2 docs\n",
      "Annotated until now: 0 docs; Current BS: 2 docs\n",
      "Annotated until now: 0 docs; Current BS: 2 docs\n",
      "Annotated until now: 0 docs; Current BS: 2 docs\n",
      "Annotated until now: 0 docs; Current BS: 2 docs\n",
      "Annotated until now: 0 docs; Current BS: 2 docs\n",
      "Annotated until now: 0 docs; Current BS: 2 docs\n",
      "Annotated until now: 0 docs; Current BS: 2 docs\n",
      "Annotated until now: 0 docs; Current BS: 2 docs\n",
      "Annotated until now: 0 docs; Current BS: 2 docs\n",
      "Annotated until now: 0 docs; Current BS: 2 docs\n",
      "Annotated until now: 0 docs; Current BS: 2 docs\n",
      "Annotated until now: 0 docs; Current BS: 2 docs\n",
      "Annotated until now: 0 docs; Current BS: 2 docs\n",
      "Annotated until now: 0 docs; Current BS: 2 docs\n",
      "Annotated until now: 0 docs; Current BS: 2 docs\n",
      "Annotated until now: 0 docs; Current BS: 2 docs\n",
      "Annotated until now: 0 docs; Current BS: 2 docs\n",
      "Annotated until now: 0 docs; Current BS: 2 docs\n",
      "Annotated until now: 0 docs; Current BS: 2 docs\n",
      "Annotated until now: 0 docs; Current BS: 2 docs\n",
      "Annotated until now: 0 docs; Current BS: 2 docs\n",
      "Annotated until now: 0 docs; Current BS: 2 docs\n",
      "Annotated until now: 0 docs; Current BS: 2 docs\n",
      "Annotated until now: 0 docs; Current BS: 2 docs\n",
      "Annotated until now: 0 docs; Current BS: 2 docs\n",
      "Annotated until now: 0 docs; Current BS: 2 docs\n",
      "Annotated until now: 0 docs; Current BS: 2 docs\n",
      "Annotated until now: 0 docs; Current BS: 2 docs\n",
      "Annotated until now: 0 docs; Current BS: 2 docs\n",
      "Annotated until now: 0 docs; Current BS: 2 docs\n",
      "Annotated until now: 0 docs; Current BS: 2 docs\n",
      "Annotated until now: 0 docs; Current BS: 2 docs\n",
      "Annotated until now: 0 docs; Current BS: 2 docs\n",
      "Annotated until now: 0 docs; Current BS: 2 docs\n"
     ]
    },
    {
     "name": "stderr",
     "output_type": "stream",
     "text": [
      "Annotated until now: 0 docs; Current BS: 2 docs\n",
      "Annotated until now: 0 docs; Current BS: 2 docs\n",
      "Annotated until now: 0 docs; Current BS: 2 docs\n",
      "Annotated until now: 0 docs; Current BS: 2 docs\n",
      "Annotated until now: 0 docs; Current BS: 2 docs\n",
      "Annotated until now: 0 docs; Current BS: 2 docs\n",
      "Annotated until now: 0 docs; Current BS: 2 docs\n",
      "Annotated until now: 0 docs; Current BS: 2 docs\n",
      "Annotated until now: 0 docs; Current BS: 2 docs\n",
      "Annotated until now: 0 docs; Current BS: 2 docs\n",
      "Annotated until now: 0 docs; Current BS: 2 docs\n",
      "Annotated until now: 0 docs; Current BS: 2 docs\n",
      "Annotated until now: 0 docs; Current BS: 2 docs\n",
      "Annotated until now: 0 docs; Current BS: 2 docs\n",
      "Annotated until now: 0 docs; Current BS: 2 docs\n",
      "Annotated until now: 0 docs; Current BS: 2 docs\n",
      "Annotated until now: 0 docs; Current BS: 2 docs\n",
      "Annotated until now: 0 docs; Current BS: 2 docs\n",
      "Annotated until now: 0 docs; Current BS: 2 docs\n",
      "Annotated until now: 0 docs; Current BS: 2 docs\n",
      "Annotated until now: 0 docs; Current BS: 2 docs\n",
      "Annotated until now: 0 docs; Current BS: 2 docs\n",
      "Annotated until now: 0 docs; Current BS: 2 docs\n",
      "Annotated until now: 0 docs; Current BS: 2 docs\n",
      "Annotated until now: 0 docs; Current BS: 2 docs\n",
      "Annotated until now: 0 docs; Current BS: 2 docs\n",
      "Annotated until now: 0 docs; Current BS: 2 docs\n",
      "Annotated until now: 0 docs; Current BS: 2 docs\n",
      "Annotated until now: 0 docs; Current BS: 2 docs\n",
      "Annotated until now: 0 docs; Current BS: 2 docs\n",
      "Annotated until now: 0 docs; Current BS: 2 docs\n",
      "Annotated until now: 0 docs; Current BS: 2 docs\n",
      "Annotated until now: 0 docs; Current BS: 2 docs\n",
      "Annotated until now: 0 docs; Current BS: 2 docs\n",
      "Annotated until now: 0 docs; Current BS: 2 docs\n",
      "Annotated until now: 0 docs; Current BS: 2 docs\n",
      "Annotated until now: 0 docs; Current BS: 2 docs\n",
      "Annotated until now: 0 docs; Current BS: 2 docs\n",
      "Annotated until now: 0 docs; Current BS: 2 docs\n",
      "Annotated until now: 0 docs; Current BS: 2 docs\n",
      "Annotated until now: 0 docs; Current BS: 2 docs\n",
      "Annotated until now: 0 docs; Current BS: 2 docs\n",
      "Annotated until now: 0 docs; Current BS: 2 docs\n",
      "Annotated until now: 0 docs; Current BS: 2 docs\n",
      "Annotated until now: 0 docs; Current BS: 2 docs\n",
      "Annotated until now: 0 docs; Current BS: 2 docs\n",
      "Annotated until now: 0 docs; Current BS: 2 docs\n",
      "Annotated until now: 0 docs; Current BS: 2 docs\n",
      "Annotated until now: 0 docs; Current BS: 2 docs\n",
      "Annotated until now: 0 docs; Current BS: 2 docs\n",
      "Annotated until now: 0 docs; Current BS: 2 docs\n",
      "Annotated until now: 0 docs; Current BS: 2 docs\n",
      "Annotated until now: 0 docs; Current BS: 2 docs\n",
      "Annotated until now: 0 docs; Current BS: 2 docs\n",
      "Annotated until now: 0 docs; Current BS: 2 docs\n",
      "Annotated until now: 0 docs; Current BS: 2 docs\n",
      "Annotated until now: 0 docs; Current BS: 2 docs\n",
      "Annotated until now: 0 docs; Current BS: 2 docs\n",
      "Annotated until now: 0 docs; Current BS: 2 docs\n",
      "Annotated until now: 0 docs; Current BS: 2 docs\n",
      "Annotated until now: 0 docs; Current BS: 2 docs\n",
      "Annotated until now: 0 docs; Current BS: 2 docs\n",
      "Annotated until now: 0 docs; Current BS: 2 docs\n",
      "Annotated until now: 0 docs; Current BS: 2 docs\n",
      "Annotated until now: 0 docs; Current BS: 2 docs\n",
      "Annotated until now: 0 docs; Current BS: 2 docs\n",
      "Annotated until now: 0 docs; Current BS: 2 docs\n",
      "Annotated until now: 0 docs; Current BS: 2 docs\n",
      "Annotated until now: 0 docs; Current BS: 2 docs\n",
      "Annotated until now: 0 docs; Current BS: 2 docs\n",
      "Annotated until now: 0 docs; Current BS: 2 docs\n",
      "Annotated until now: 0 docs; Current BS: 2 docs\n",
      "Annotated until now: 0 docs; Current BS: 2 docs\n",
      "Annotated until now: 0 docs; Current BS: 2 docs\n",
      "Annotated until now: 0 docs; Current BS: 2 docs\n",
      "Annotated until now: 0 docs; Current BS: 2 docs\n",
      "Annotated until now: 0 docs; Current BS: 2 docs\n",
      "Annotated until now: 0 docs; Current BS: 2 docs\n",
      "Annotated until now: 0 docs; Current BS: 2 docs\n",
      "Annotated until now: 0 docs; Current BS: 2 docs\n",
      "Annotated until now: 0 docs; Current BS: 2 docs\n",
      "Annotated until now: 0 docs; Current BS: 2 docs\n",
      "Annotated until now: 0 docs; Current BS: 2 docs\n",
      "Annotated until now: 0 docs; Current BS: 2 docs\n",
      "Annotated until now: 0 docs; Current BS: 2 docs\n",
      "Annotated until now: 0 docs; Current BS: 2 docs\n",
      "Annotated until now: 0 docs; Current BS: 2 docs\n",
      "Annotated until now: 0 docs; Current BS: 2 docs\n",
      "Annotated until now: 0 docs; Current BS: 2 docs\n",
      "Annotated until now: 0 docs; Current BS: 2 docs\n",
      "Annotated until now: 0 docs; Current BS: 2 docs\n",
      "Annotated until now: 0 docs; Current BS: 2 docs\n",
      "Annotated until now: 0 docs; Current BS: 2 docs\n",
      "Annotated until now: 0 docs; Current BS: 2 docs\n",
      "Annotated until now: 0 docs; Current BS: 2 docs\n",
      "Annotated until now: 0 docs; Current BS: 2 docs\n",
      "Annotated until now: 0 docs; Current BS: 2 docs\n",
      "Annotated until now: 0 docs; Current BS: 2 docs\n",
      "Annotated until now: 0 docs; Current BS: 2 docs\n",
      "Annotated until now: 0 docs; Current BS: 2 docs\n",
      "Annotated until now: 0 docs; Current BS: 2 docs\n",
      "Annotated until now: 0 docs; Current BS: 2 docs\n",
      "Annotated until now: 0 docs; Current BS: 2 docs\n",
      "Annotated until now: 0 docs; Current BS: 2 docs\n",
      "Annotated until now: 0 docs; Current BS: 2 docs\n",
      "Annotated until now: 0 docs; Current BS: 2 docs\n",
      "Annotated until now: 0 docs; Current BS: 2 docs\n",
      "Annotated until now: 0 docs; Current BS: 2 docs\n",
      "Annotated until now: 0 docs; Current BS: 2 docs\n",
      "Annotated until now: 0 docs; Current BS: 2 docs\n",
      "Annotated until now: 0 docs; Current BS: 2 docs\n",
      "Annotated until now: 0 docs; Current BS: 2 docs\n",
      "Annotated until now: 0 docs; Current BS: 2 docs\n",
      "Annotated until now: 0 docs; Current BS: 2 docs\n",
      "Annotated until now: 0 docs; Current BS: 2 docs\n",
      "Annotated until now: 0 docs; Current BS: 2 docs\n",
      "Annotated until now: 0 docs; Current BS: 2 docs\n",
      "Annotated until now: 0 docs; Current BS: 2 docs\n",
      "Annotated until now: 0 docs; Current BS: 2 docs\n",
      "Annotated until now: 0 docs; Current BS: 2 docs\n",
      "Annotated until now: 0 docs; Current BS: 2 docs\n",
      "Annotated until now: 0 docs; Current BS: 2 docs\n",
      "Annotated until now: 0 docs; Current BS: 2 docs\n",
      "Annotated until now: 0 docs; Current BS: 2 docs\n",
      "Annotated until now: 0 docs; Current BS: 2 docs\n",
      "Annotated until now: 0 docs; Current BS: 2 docs\n",
      "Annotated until now: 0 docs; Current BS: 2 docs\n",
      "Annotated until now: 0 docs; Current BS: 2 docs\n",
      "Annotated until now: 0 docs; Current BS: 2 docs\n",
      "Annotated until now: 0 docs; Current BS: 2 docs\n",
      "Annotated until now: 0 docs; Current BS: 2 docs\n",
      "Annotated until now: 0 docs; Current BS: 2 docs\n",
      "Annotated until now: 0 docs; Current BS: 2 docs\n",
      "Annotated until now: 0 docs; Current BS: 2 docs\n",
      "Annotated until now: 0 docs; Current BS: 2 docs\n",
      "Annotated until now: 0 docs; Current BS: 2 docs\n",
      "Annotated until now: 0 docs; Current BS: 2 docs\n",
      "Annotated until now: 0 docs; Current BS: 2 docs\n",
      "Annotated until now: 0 docs; Current BS: 2 docs\n",
      "Annotated until now: 0 docs; Current BS: 2 docs\n",
      "Annotated until now: 0 docs; Current BS: 2 docs\n",
      "Annotated until now: 0 docs; Current BS: 2 docs\n",
      "Annotated until now: 0 docs; Current BS: 2 docs\n",
      "Annotated until now: 0 docs; Current BS: 2 docs\n",
      "Annotated until now: 0 docs; Current BS: 2 docs\n",
      "Annotated until now: 0 docs; Current BS: 2 docs\n",
      "Annotated until now: 0 docs; Current BS: 2 docs\n",
      "Annotated until now: 0 docs; Current BS: 2 docs\n",
      "Annotated until now: 0 docs; Current BS: 2 docs\n",
      "Annotated until now: 0 docs; Current BS: 2 docs\n",
      "Annotated until now: 0 docs; Current BS: 2 docs\n",
      "Annotated until now: 0 docs; Current BS: 2 docs\n",
      "Annotated until now: 0 docs; Current BS: 2 docs\n",
      "Annotated until now: 0 docs; Current BS: 2 docs\n",
      "Annotated until now: 0 docs; Current BS: 2 docs\n",
      "Annotated until now: 0 docs; Current BS: 2 docs\n",
      "Annotated until now: 0 docs; Current BS: 2 docs\n",
      "Annotated until now: 0 docs; Current BS: 2 docs\n",
      "Annotated until now: 0 docs; Current BS: 2 docs\n",
      "Annotated until now: 0 docs; Current BS: 2 docs\n",
      "Annotated until now: 0 docs; Current BS: 2 docs\n",
      "Annotated until now: 0 docs; Current BS: 2 docs\n",
      "Annotated until now: 0 docs; Current BS: 2 docs\n",
      "Annotated until now: 0 docs; Current BS: 2 docs\n",
      "Annotated until now: 0 docs; Current BS: 2 docs\n",
      "Annotated until now: 0 docs; Current BS: 2 docs\n",
      "Annotated until now: 0 docs; Current BS: 2 docs\n",
      "Annotated until now: 0 docs; Current BS: 2 docs\n",
      "Annotated until now: 0 docs; Current BS: 2 docs\n",
      "Annotated until now: 0 docs; Current BS: 2 docs\n",
      "Annotated until now: 0 docs; Current BS: 2 docs\n"
     ]
    },
    {
     "name": "stderr",
     "output_type": "stream",
     "text": [
      "Annotated until now: 0 docs; Current BS: 2 docs\n",
      "Annotated until now: 0 docs; Current BS: 2 docs\n",
      "Annotated until now: 0 docs; Current BS: 2 docs\n",
      "Annotated until now: 0 docs; Current BS: 2 docs\n",
      "Annotated until now: 0 docs; Current BS: 2 docs\n",
      "Annotated until now: 0 docs; Current BS: 2 docs\n",
      "Annotated until now: 0 docs; Current BS: 2 docs\n",
      "Annotated until now: 0 docs; Current BS: 2 docs\n",
      "Annotated until now: 0 docs; Current BS: 2 docs\n",
      "Annotated until now: 0 docs; Current BS: 2 docs\n",
      "Annotated until now: 0 docs; Current BS: 2 docs\n",
      "Annotated until now: 0 docs; Current BS: 2 docs\n",
      "Annotated until now: 0 docs; Current BS: 2 docs\n",
      "Annotated until now: 0 docs; Current BS: 2 docs\n",
      "Annotated until now: 0 docs; Current BS: 2 docs\n"
     ]
    }
   ],
   "source": [
    "annotation = medcat.annotate(adata.obs.text, only_cui=True)"
   ]
  },
  {
   "cell_type": "code",
   "execution_count": 13,
   "metadata": {},
   "outputs": [
    {
     "data": {
      "text/plain": [
       "1088"
      ]
     },
     "execution_count": 13,
     "metadata": {},
     "output_type": "execute_result"
    }
   ],
   "source": [
    "adata.obs[\"diagnoses\"] = annotation.medcat_annotation"
   ]
  },
  {
   "cell_type": "code",
   "execution_count": 19,
   "metadata": {},
   "outputs": [
    {
     "name": "stdout",
     "output_type": "stream",
     "text": [
      "['Diabetes Mellitus', 'Degenerative polyarthritis', 'Atrial Fibrillation', 'Hypertensive disease', 'Asthma', 'Sleep Apnea, Obstructive', 'Diabetic foot ulcer', 'Diabetes Mellitus', 'Degenerative polyarthritis', 'Hypertensive disease', 'Asthma', 'Atrial Fibrillation', 'Diabetic foot ulcer', 'Anemia', 'Coronary Arteriosclerosis', 'Cardiac Arrest', 'Respiratory Failure', 'Sepsis', 'Mental disorders']\n"
     ]
    }
   ],
   "source": [
    "with pd.option_context('display.max_rows', None, 'display.max_columns', None):\n",
    "    print(adata.obs[\"diagnoses\"][0])"
   ]
  },
  {
   "cell_type": "code",
   "execution_count": 31,
   "metadata": {},
   "outputs": [
    {
     "name": "stdout",
     "output_type": "stream",
     "text": [
      "Mental disorders\n",
      "Chronic Obstructive Airway Disease\n",
      "Pneumonia\n",
      "Respiratory Failure\n",
      "Hypertensive disease\n",
      "Pneumothorax\n",
      "Disease\n",
      "Pneumonia\n",
      "Sepsis\n",
      "Respiratory Failure\n",
      "Pneumonia\n",
      "Pneumonia\n",
      "Sepsis\n",
      "Respiratory Failure\n",
      "Respiratory Failure\n",
      "Chronic Obstructive Airway Disease\n"
     ]
    }
   ],
   "source": [
    "patient_1_concepts = annotation.medcat_annotation[0][\"0\"][\"entities\"]\n",
    "for concept in patient_1_concepts.values():\n",
    "    print(medcat.concept_db.cui2preferred_name[concept])"
   ]
  },
  {
   "cell_type": "code",
   "execution_count": 17,
   "metadata": {},
   "outputs": [],
   "source": [
    "subjects_diseases_pcts = medcat.calculate_disease_proportions(annotation.cui_locations,\n",
    "                                                              adata.obs,\n",
    "                                                              subject_id_col=\"subject_id\")"
   ]
  },
  {
   "cell_type": "code",
   "execution_count": 18,
   "metadata": {},
   "outputs": [
    {
     "data": {
      "image/png": "[encoded data removed]",
      "text/plain": [
       "<Figure size 360x864 with 1 Axes>"
      ]
     },
     "metadata": {},
     "output_type": "display_data"
    }
   ],
   "source": [
    "medcat.plot_top_diseases(subjects_diseases_pcts, 30)"
   ]
  },
  {
   "cell_type": "code",
   "execution_count": null,
   "metadata": {},
   "outputs": [],
   "source": []
  }
 ],
 "metadata": {
  "kernelspec": {
   "display_name": "Python [conda env:scanpy_tutorial] *",
   "language": "python",
   "name": "conda-env-scanpy_tutorial-py"
  },
  "language_info": {
   "codemirror_mode": {
    "name": "ipython",
    "version": 3
   },
   "file_extension": ".py",
   "mimetype": "text/x-python",
   "name": "python",
   "nbconvert_exporter": "python",
   "pygments_lexer": "ipython3",
   "version": "3.9.4"
  }
 },
 "nbformat": 4,
 "nbformat_minor": 4
}
